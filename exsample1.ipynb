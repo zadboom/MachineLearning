{
 "cells": [
  {
   "cell_type": "markdown",
   "id": "3a67afe6",
   "metadata": {},
   "source": [
    "introduction pandas\n"
   ]
  },
  {
   "cell_type": "code",
   "execution_count": 2,
   "id": "71488f04",
   "metadata": {},
   "outputs": [],
   "source": [
    "import pandas as pd\n"
   ]
  },
  {
   "cell_type": "code",
   "execution_count": 3,
   "id": "a7b681e5",
   "metadata": {},
   "outputs": [],
   "source": [
    "family=pd.Series([\"saman\",\"shohre\",\"raybod\"])"
   ]
  },
  {
   "cell_type": "code",
   "execution_count": 4,
   "id": "2dd97141",
   "metadata": {},
   "outputs": [
    {
     "name": "stdout",
     "output_type": "stream",
     "text": [
      "0     saman\n",
      "1    shohre\n",
      "2    raybod\n",
      "dtype: object\n"
     ]
    }
   ],
   "source": [
    "print(family)"
   ]
  },
  {
   "cell_type": "code",
   "execution_count": 5,
   "id": "be835812",
   "metadata": {},
   "outputs": [],
   "source": [
    "friend=pd.Series([\"shiva\",\"arash\",\"yara\"])\n"
   ]
  },
  {
   "cell_type": "code",
   "execution_count": 6,
   "id": "50b7ecd2",
   "metadata": {},
   "outputs": [
    {
     "data": {
      "text/html": [
       "<div>\n",
       "<style scoped>\n",
       "    .dataframe tbody tr th:only-of-type {\n",
       "        vertical-align: middle;\n",
       "    }\n",
       "\n",
       "    .dataframe tbody tr th {\n",
       "        vertical-align: top;\n",
       "    }\n",
       "\n",
       "    .dataframe thead th {\n",
       "        text-align: right;\n",
       "    }\n",
       "</style>\n",
       "<table border=\"1\" class=\"dataframe\">\n",
       "  <thead>\n",
       "    <tr style=\"text-align: right;\">\n",
       "      <th></th>\n",
       "      <th>Family</th>\n",
       "      <th>Freind</th>\n",
       "    </tr>\n",
       "  </thead>\n",
       "  <tbody>\n",
       "    <tr>\n",
       "      <th>0</th>\n",
       "      <td>saman</td>\n",
       "      <td>shiva</td>\n",
       "    </tr>\n",
       "    <tr>\n",
       "      <th>1</th>\n",
       "      <td>shohre</td>\n",
       "      <td>arash</td>\n",
       "    </tr>\n",
       "    <tr>\n",
       "      <th>2</th>\n",
       "      <td>raybod</td>\n",
       "      <td>yara</td>\n",
       "    </tr>\n",
       "  </tbody>\n",
       "</table>\n",
       "</div>"
      ],
      "text/plain": [
       "   Family Freind\n",
       "0   saman  shiva\n",
       "1  shohre  arash\n",
       "2  raybod   yara"
      ]
     },
     "execution_count": 6,
     "metadata": {},
     "output_type": "execute_result"
    }
   ],
   "source": [
    "pd.DataFrame({\"Family\":family,\"Freind\":friend})"
   ]
  },
  {
   "cell_type": "code",
   "execution_count": 7,
   "id": "402dcfc0",
   "metadata": {},
   "outputs": [],
   "source": [
    "Colouers=pd.Series([\"red\",\"blue\",\"green\"])"
   ]
  },
  {
   "cell_type": "code",
   "execution_count": 8,
   "id": "d96203c3",
   "metadata": {},
   "outputs": [],
   "source": [
    "clothes=pd.Series([\"jacket\",\"shirt\",\"skirt\"])\n"
   ]
  },
  {
   "cell_type": "code",
   "execution_count": 9,
   "id": "365a715a",
   "metadata": {},
   "outputs": [
    {
     "data": {
      "text/html": [
       "<div>\n",
       "<style scoped>\n",
       "    .dataframe tbody tr th:only-of-type {\n",
       "        vertical-align: middle;\n",
       "    }\n",
       "\n",
       "    .dataframe tbody tr th {\n",
       "        vertical-align: top;\n",
       "    }\n",
       "\n",
       "    .dataframe thead th {\n",
       "        text-align: right;\n",
       "    }\n",
       "</style>\n",
       "<table border=\"1\" class=\"dataframe\">\n",
       "  <thead>\n",
       "    <tr style=\"text-align: right;\">\n",
       "      <th></th>\n",
       "      <th>Clothes</th>\n",
       "      <th>Colouers</th>\n",
       "    </tr>\n",
       "  </thead>\n",
       "  <tbody>\n",
       "    <tr>\n",
       "      <th>0</th>\n",
       "      <td>jacket</td>\n",
       "      <td>red</td>\n",
       "    </tr>\n",
       "    <tr>\n",
       "      <th>1</th>\n",
       "      <td>shirt</td>\n",
       "      <td>blue</td>\n",
       "    </tr>\n",
       "    <tr>\n",
       "      <th>2</th>\n",
       "      <td>skirt</td>\n",
       "      <td>green</td>\n",
       "    </tr>\n",
       "  </tbody>\n",
       "</table>\n",
       "</div>"
      ],
      "text/plain": [
       "  Clothes Colouers\n",
       "0  jacket      red\n",
       "1   shirt     blue\n",
       "2   skirt    green"
      ]
     },
     "execution_count": 9,
     "metadata": {},
     "output_type": "execute_result"
    }
   ],
   "source": [
    "pd.DataFrame({\"Clothes\":clothes,\"Colouers\":Colouers})"
   ]
  },
  {
   "cell_type": "code",
   "execution_count": 10,
   "id": "afd81b37",
   "metadata": {},
   "outputs": [],
   "source": [
    "price=pd.Series([\"200\",\"300\",\"350\"])"
   ]
  },
  {
   "cell_type": "code",
   "execution_count": 11,
   "id": "dbf5d636",
   "metadata": {},
   "outputs": [
    {
     "data": {
      "text/html": [
       "<div>\n",
       "<style scoped>\n",
       "    .dataframe tbody tr th:only-of-type {\n",
       "        vertical-align: middle;\n",
       "    }\n",
       "\n",
       "    .dataframe tbody tr th {\n",
       "        vertical-align: top;\n",
       "    }\n",
       "\n",
       "    .dataframe thead th {\n",
       "        text-align: right;\n",
       "    }\n",
       "</style>\n",
       "<table border=\"1\" class=\"dataframe\">\n",
       "  <thead>\n",
       "    <tr style=\"text-align: right;\">\n",
       "      <th></th>\n",
       "      <th>Clothes</th>\n",
       "      <th>Colouers</th>\n",
       "      <th>Price</th>\n",
       "    </tr>\n",
       "  </thead>\n",
       "  <tbody>\n",
       "    <tr>\n",
       "      <th>0</th>\n",
       "      <td>jacket</td>\n",
       "      <td>red</td>\n",
       "      <td>200</td>\n",
       "    </tr>\n",
       "    <tr>\n",
       "      <th>1</th>\n",
       "      <td>shirt</td>\n",
       "      <td>blue</td>\n",
       "      <td>300</td>\n",
       "    </tr>\n",
       "    <tr>\n",
       "      <th>2</th>\n",
       "      <td>skirt</td>\n",
       "      <td>green</td>\n",
       "      <td>350</td>\n",
       "    </tr>\n",
       "  </tbody>\n",
       "</table>\n",
       "</div>"
      ],
      "text/plain": [
       "  Clothes Colouers Price\n",
       "0  jacket      red   200\n",
       "1   shirt     blue   300\n",
       "2   skirt    green   350"
      ]
     },
     "execution_count": 11,
     "metadata": {},
     "output_type": "execute_result"
    }
   ],
   "source": [
    "pd.DataFrame({\"Clothes\":clothes,\"Colouers\":Colouers,\"Price\":price})"
   ]
  },
  {
   "cell_type": "code",
   "execution_count": 12,
   "id": "ce3ff283",
   "metadata": {},
   "outputs": [],
   "source": [
    "laliga_data=pd.read_csv(\"es.1.csv\")"
   ]
  },
  {
   "cell_type": "code",
   "execution_count": 13,
   "id": "750f0feb",
   "metadata": {},
   "outputs": [
    {
     "data": {
      "text/html": [
       "<div>\n",
       "<style scoped>\n",
       "    .dataframe tbody tr th:only-of-type {\n",
       "        vertical-align: middle;\n",
       "    }\n",
       "\n",
       "    .dataframe tbody tr th {\n",
       "        vertical-align: top;\n",
       "    }\n",
       "\n",
       "    .dataframe thead th {\n",
       "        text-align: right;\n",
       "    }\n",
       "</style>\n",
       "<table border=\"1\" class=\"dataframe\">\n",
       "  <thead>\n",
       "    <tr style=\"text-align: right;\">\n",
       "      <th></th>\n",
       "      <th>Round</th>\n",
       "      <th>Date</th>\n",
       "      <th>Team 1</th>\n",
       "      <th>FT</th>\n",
       "      <th>Team 2</th>\n",
       "    </tr>\n",
       "  </thead>\n",
       "  <tbody>\n",
       "    <tr>\n",
       "      <th>0</th>\n",
       "      <td>1</td>\n",
       "      <td>Sat Sep 12 2020</td>\n",
       "      <td>SD Eibar</td>\n",
       "      <td>0-0</td>\n",
       "      <td>RC Celta Vigo</td>\n",
       "    </tr>\n",
       "    <tr>\n",
       "      <th>1</th>\n",
       "      <td>1</td>\n",
       "      <td>Sat Sep 12 2020</td>\n",
       "      <td>Granada CF</td>\n",
       "      <td>2-0</td>\n",
       "      <td>Athletic Club Bilbao</td>\n",
       "    </tr>\n",
       "    <tr>\n",
       "      <th>2</th>\n",
       "      <td>1</td>\n",
       "      <td>Sat Sep 12 2020</td>\n",
       "      <td>Cádiz CF</td>\n",
       "      <td>0-2</td>\n",
       "      <td>CA Osasuna</td>\n",
       "    </tr>\n",
       "    <tr>\n",
       "      <th>3</th>\n",
       "      <td>1</td>\n",
       "      <td>Sun Sep 13 2020</td>\n",
       "      <td>FC Barcelona</td>\n",
       "      <td>NaN</td>\n",
       "      <td>Elche CF</td>\n",
       "    </tr>\n",
       "    <tr>\n",
       "      <th>4</th>\n",
       "      <td>1</td>\n",
       "      <td>Sun Sep 13 2020</td>\n",
       "      <td>Real Madrid</td>\n",
       "      <td>NaN</td>\n",
       "      <td>Getafe CF</td>\n",
       "    </tr>\n",
       "    <tr>\n",
       "      <th>...</th>\n",
       "      <td>...</td>\n",
       "      <td>...</td>\n",
       "      <td>...</td>\n",
       "      <td>...</td>\n",
       "      <td>...</td>\n",
       "    </tr>\n",
       "    <tr>\n",
       "      <th>375</th>\n",
       "      <td>38</td>\n",
       "      <td>Sun May 23 2021</td>\n",
       "      <td>CA Osasuna</td>\n",
       "      <td>NaN</td>\n",
       "      <td>Real Sociedad</td>\n",
       "    </tr>\n",
       "    <tr>\n",
       "      <th>376</th>\n",
       "      <td>38</td>\n",
       "      <td>Sun May 23 2021</td>\n",
       "      <td>Real Madrid</td>\n",
       "      <td>NaN</td>\n",
       "      <td>Villarreal CF</td>\n",
       "    </tr>\n",
       "    <tr>\n",
       "      <th>377</th>\n",
       "      <td>38</td>\n",
       "      <td>Sun May 23 2021</td>\n",
       "      <td>Sevilla FC</td>\n",
       "      <td>NaN</td>\n",
       "      <td>Deportivo Alavés</td>\n",
       "    </tr>\n",
       "    <tr>\n",
       "      <th>378</th>\n",
       "      <td>38</td>\n",
       "      <td>Sun May 23 2021</td>\n",
       "      <td>Real Valladolid CF</td>\n",
       "      <td>NaN</td>\n",
       "      <td>Atlético Madrid</td>\n",
       "    </tr>\n",
       "    <tr>\n",
       "      <th>379</th>\n",
       "      <td>38</td>\n",
       "      <td>Sun May 23 2021</td>\n",
       "      <td>Elche CF</td>\n",
       "      <td>NaN</td>\n",
       "      <td>Athletic Club Bilbao</td>\n",
       "    </tr>\n",
       "  </tbody>\n",
       "</table>\n",
       "<p>380 rows × 5 columns</p>\n",
       "</div>"
      ],
      "text/plain": [
       "     Round             Date              Team 1   FT                Team 2\n",
       "0        1  Sat Sep 12 2020            SD Eibar  0-0         RC Celta Vigo\n",
       "1        1  Sat Sep 12 2020          Granada CF  2-0  Athletic Club Bilbao\n",
       "2        1  Sat Sep 12 2020            Cádiz CF  0-2            CA Osasuna\n",
       "3        1  Sun Sep 13 2020        FC Barcelona  NaN              Elche CF\n",
       "4        1  Sun Sep 13 2020         Real Madrid  NaN             Getafe CF\n",
       "..     ...              ...                 ...  ...                   ...\n",
       "375     38  Sun May 23 2021          CA Osasuna  NaN         Real Sociedad\n",
       "376     38  Sun May 23 2021         Real Madrid  NaN         Villarreal CF\n",
       "377     38  Sun May 23 2021          Sevilla FC  NaN      Deportivo Alavés\n",
       "378     38  Sun May 23 2021  Real Valladolid CF  NaN       Atlético Madrid\n",
       "379     38  Sun May 23 2021            Elche CF  NaN  Athletic Club Bilbao\n",
       "\n",
       "[380 rows x 5 columns]"
      ]
     },
     "execution_count": 13,
     "metadata": {},
     "output_type": "execute_result"
    }
   ],
   "source": [
    "laliga_data"
   ]
  },
  {
   "cell_type": "code",
   "execution_count": 14,
   "id": "3a134e1a",
   "metadata": {},
   "outputs": [
    {
     "data": {
      "text/html": [
       "<div>\n",
       "<style scoped>\n",
       "    .dataframe tbody tr th:only-of-type {\n",
       "        vertical-align: middle;\n",
       "    }\n",
       "\n",
       "    .dataframe tbody tr th {\n",
       "        vertical-align: top;\n",
       "    }\n",
       "\n",
       "    .dataframe thead th {\n",
       "        text-align: right;\n",
       "    }\n",
       "</style>\n",
       "<table border=\"1\" class=\"dataframe\">\n",
       "  <thead>\n",
       "    <tr style=\"text-align: right;\">\n",
       "      <th></th>\n",
       "      <th>Round</th>\n",
       "      <th>Date</th>\n",
       "      <th>Team 1</th>\n",
       "      <th>FT</th>\n",
       "      <th>Team 2</th>\n",
       "    </tr>\n",
       "  </thead>\n",
       "  <tbody>\n",
       "    <tr>\n",
       "      <th>0</th>\n",
       "      <td>1</td>\n",
       "      <td>Sat Sep 12 2020</td>\n",
       "      <td>SD Eibar</td>\n",
       "      <td>0-0</td>\n",
       "      <td>RC Celta Vigo</td>\n",
       "    </tr>\n",
       "    <tr>\n",
       "      <th>1</th>\n",
       "      <td>1</td>\n",
       "      <td>Sat Sep 12 2020</td>\n",
       "      <td>Granada CF</td>\n",
       "      <td>2-0</td>\n",
       "      <td>Athletic Club Bilbao</td>\n",
       "    </tr>\n",
       "    <tr>\n",
       "      <th>2</th>\n",
       "      <td>1</td>\n",
       "      <td>Sat Sep 12 2020</td>\n",
       "      <td>Cádiz CF</td>\n",
       "      <td>0-2</td>\n",
       "      <td>CA Osasuna</td>\n",
       "    </tr>\n",
       "    <tr>\n",
       "      <th>3</th>\n",
       "      <td>1</td>\n",
       "      <td>Sun Sep 13 2020</td>\n",
       "      <td>FC Barcelona</td>\n",
       "      <td>NaN</td>\n",
       "      <td>Elche CF</td>\n",
       "    </tr>\n",
       "    <tr>\n",
       "      <th>4</th>\n",
       "      <td>1</td>\n",
       "      <td>Sun Sep 13 2020</td>\n",
       "      <td>Real Madrid</td>\n",
       "      <td>NaN</td>\n",
       "      <td>Getafe CF</td>\n",
       "    </tr>\n",
       "  </tbody>\n",
       "</table>\n",
       "</div>"
      ],
      "text/plain": [
       "   Round             Date        Team 1   FT                Team 2\n",
       "0      1  Sat Sep 12 2020      SD Eibar  0-0         RC Celta Vigo\n",
       "1      1  Sat Sep 12 2020    Granada CF  2-0  Athletic Club Bilbao\n",
       "2      1  Sat Sep 12 2020      Cádiz CF  0-2            CA Osasuna\n",
       "3      1  Sun Sep 13 2020  FC Barcelona  NaN              Elche CF\n",
       "4      1  Sun Sep 13 2020   Real Madrid  NaN             Getafe CF"
      ]
     },
     "execution_count": 14,
     "metadata": {},
     "output_type": "execute_result"
    }
   ],
   "source": [
    "laliga_data.head(5)"
   ]
  },
  {
   "cell_type": "code",
   "execution_count": 15,
   "id": "b6d7abcb",
   "metadata": {},
   "outputs": [
    {
     "data": {
      "text/html": [
       "<div>\n",
       "<style scoped>\n",
       "    .dataframe tbody tr th:only-of-type {\n",
       "        vertical-align: middle;\n",
       "    }\n",
       "\n",
       "    .dataframe tbody tr th {\n",
       "        vertical-align: top;\n",
       "    }\n",
       "\n",
       "    .dataframe thead th {\n",
       "        text-align: right;\n",
       "    }\n",
       "</style>\n",
       "<table border=\"1\" class=\"dataframe\">\n",
       "  <thead>\n",
       "    <tr style=\"text-align: right;\">\n",
       "      <th></th>\n",
       "      <th>Round</th>\n",
       "      <th>Date</th>\n",
       "      <th>Team 1</th>\n",
       "      <th>FT</th>\n",
       "      <th>Team 2</th>\n",
       "    </tr>\n",
       "  </thead>\n",
       "  <tbody>\n",
       "    <tr>\n",
       "      <th>0</th>\n",
       "      <td>1</td>\n",
       "      <td>Sat Sep 12 2020</td>\n",
       "      <td>SD Eibar</td>\n",
       "      <td>0-0</td>\n",
       "      <td>RC Celta Vigo</td>\n",
       "    </tr>\n",
       "    <tr>\n",
       "      <th>1</th>\n",
       "      <td>1</td>\n",
       "      <td>Sat Sep 12 2020</td>\n",
       "      <td>Granada CF</td>\n",
       "      <td>2-0</td>\n",
       "      <td>Athletic Club Bilbao</td>\n",
       "    </tr>\n",
       "    <tr>\n",
       "      <th>2</th>\n",
       "      <td>1</td>\n",
       "      <td>Sat Sep 12 2020</td>\n",
       "      <td>Cádiz CF</td>\n",
       "      <td>0-2</td>\n",
       "      <td>CA Osasuna</td>\n",
       "    </tr>\n",
       "    <tr>\n",
       "      <th>3</th>\n",
       "      <td>1</td>\n",
       "      <td>Sun Sep 13 2020</td>\n",
       "      <td>FC Barcelona</td>\n",
       "      <td>NaN</td>\n",
       "      <td>Elche CF</td>\n",
       "    </tr>\n",
       "    <tr>\n",
       "      <th>4</th>\n",
       "      <td>1</td>\n",
       "      <td>Sun Sep 13 2020</td>\n",
       "      <td>Real Madrid</td>\n",
       "      <td>NaN</td>\n",
       "      <td>Getafe CF</td>\n",
       "    </tr>\n",
       "    <tr>\n",
       "      <th>5</th>\n",
       "      <td>1</td>\n",
       "      <td>Sun Sep 13 2020</td>\n",
       "      <td>Deportivo Alavés</td>\n",
       "      <td>0-1</td>\n",
       "      <td>Real Betis</td>\n",
       "    </tr>\n",
       "    <tr>\n",
       "      <th>6</th>\n",
       "      <td>1</td>\n",
       "      <td>Sun Sep 13 2020</td>\n",
       "      <td>Real Valladolid CF</td>\n",
       "      <td>1-1</td>\n",
       "      <td>Real Sociedad</td>\n",
       "    </tr>\n",
       "    <tr>\n",
       "      <th>7</th>\n",
       "      <td>1</td>\n",
       "      <td>Sun Sep 13 2020</td>\n",
       "      <td>Villarreal CF</td>\n",
       "      <td>1-1</td>\n",
       "      <td>SD Huesca</td>\n",
       "    </tr>\n",
       "    <tr>\n",
       "      <th>8</th>\n",
       "      <td>1</td>\n",
       "      <td>Sun Sep 13 2020</td>\n",
       "      <td>Valencia CF</td>\n",
       "      <td>4-2</td>\n",
       "      <td>Levante UD</td>\n",
       "    </tr>\n",
       "    <tr>\n",
       "      <th>9</th>\n",
       "      <td>2</td>\n",
       "      <td>Sat Sep 19 2020</td>\n",
       "      <td>Villarreal CF</td>\n",
       "      <td>2-1</td>\n",
       "      <td>SD Eibar</td>\n",
       "    </tr>\n",
       "    <tr>\n",
       "      <th>10</th>\n",
       "      <td>2</td>\n",
       "      <td>Sat Sep 19 2020</td>\n",
       "      <td>Getafe CF</td>\n",
       "      <td>1-0</td>\n",
       "      <td>CA Osasuna</td>\n",
       "    </tr>\n",
       "    <tr>\n",
       "      <th>11</th>\n",
       "      <td>2</td>\n",
       "      <td>Sat Sep 19 2020</td>\n",
       "      <td>RC Celta Vigo</td>\n",
       "      <td>2-1</td>\n",
       "      <td>Valencia CF</td>\n",
       "    </tr>\n",
       "    <tr>\n",
       "      <th>12</th>\n",
       "      <td>2</td>\n",
       "      <td>Sun Sep 20 2020</td>\n",
       "      <td>Levante UD</td>\n",
       "      <td>NaN</td>\n",
       "      <td>Atlético Madrid</td>\n",
       "    </tr>\n",
       "    <tr>\n",
       "      <th>13</th>\n",
       "      <td>2</td>\n",
       "      <td>Sun Sep 20 2020</td>\n",
       "      <td>Sevilla FC</td>\n",
       "      <td>NaN</td>\n",
       "      <td>Elche CF</td>\n",
       "    </tr>\n",
       "    <tr>\n",
       "      <th>14</th>\n",
       "      <td>2</td>\n",
       "      <td>Sun Sep 20 2020</td>\n",
       "      <td>SD Huesca</td>\n",
       "      <td>0-2</td>\n",
       "      <td>Cádiz CF</td>\n",
       "    </tr>\n",
       "    <tr>\n",
       "      <th>15</th>\n",
       "      <td>2</td>\n",
       "      <td>Sun Sep 20 2020</td>\n",
       "      <td>Real Betis</td>\n",
       "      <td>2-0</td>\n",
       "      <td>Real Valladolid CF</td>\n",
       "    </tr>\n",
       "    <tr>\n",
       "      <th>16</th>\n",
       "      <td>2</td>\n",
       "      <td>Sun Sep 20 2020</td>\n",
       "      <td>Granada CF</td>\n",
       "      <td>2-1</td>\n",
       "      <td>Deportivo Alavés</td>\n",
       "    </tr>\n",
       "    <tr>\n",
       "      <th>17</th>\n",
       "      <td>2</td>\n",
       "      <td>Sun Sep 20 2020</td>\n",
       "      <td>Real Sociedad</td>\n",
       "      <td>0-0</td>\n",
       "      <td>Real Madrid</td>\n",
       "    </tr>\n",
       "    <tr>\n",
       "      <th>18</th>\n",
       "      <td>3</td>\n",
       "      <td>Sat Sep 26 2020</td>\n",
       "      <td>Deportivo Alavés</td>\n",
       "      <td>0-0</td>\n",
       "      <td>Getafe CF</td>\n",
       "    </tr>\n",
       "    <tr>\n",
       "      <th>19</th>\n",
       "      <td>3</td>\n",
       "      <td>Sat Sep 26 2020</td>\n",
       "      <td>Valencia CF</td>\n",
       "      <td>1-1</td>\n",
       "      <td>SD Huesca</td>\n",
       "    </tr>\n",
       "  </tbody>\n",
       "</table>\n",
       "</div>"
      ],
      "text/plain": [
       "    Round             Date              Team 1   FT                Team 2\n",
       "0       1  Sat Sep 12 2020            SD Eibar  0-0         RC Celta Vigo\n",
       "1       1  Sat Sep 12 2020          Granada CF  2-0  Athletic Club Bilbao\n",
       "2       1  Sat Sep 12 2020            Cádiz CF  0-2            CA Osasuna\n",
       "3       1  Sun Sep 13 2020        FC Barcelona  NaN              Elche CF\n",
       "4       1  Sun Sep 13 2020         Real Madrid  NaN             Getafe CF\n",
       "5       1  Sun Sep 13 2020    Deportivo Alavés  0-1            Real Betis\n",
       "6       1  Sun Sep 13 2020  Real Valladolid CF  1-1         Real Sociedad\n",
       "7       1  Sun Sep 13 2020       Villarreal CF  1-1             SD Huesca\n",
       "8       1  Sun Sep 13 2020         Valencia CF  4-2            Levante UD\n",
       "9       2  Sat Sep 19 2020       Villarreal CF  2-1              SD Eibar\n",
       "10      2  Sat Sep 19 2020           Getafe CF  1-0            CA Osasuna\n",
       "11      2  Sat Sep 19 2020       RC Celta Vigo  2-1           Valencia CF\n",
       "12      2  Sun Sep 20 2020          Levante UD  NaN       Atlético Madrid\n",
       "13      2  Sun Sep 20 2020          Sevilla FC  NaN              Elche CF\n",
       "14      2  Sun Sep 20 2020           SD Huesca  0-2              Cádiz CF\n",
       "15      2  Sun Sep 20 2020          Real Betis  2-0    Real Valladolid CF\n",
       "16      2  Sun Sep 20 2020          Granada CF  2-1      Deportivo Alavés\n",
       "17      2  Sun Sep 20 2020       Real Sociedad  0-0           Real Madrid\n",
       "18      3  Sat Sep 26 2020    Deportivo Alavés  0-0             Getafe CF\n",
       "19      3  Sat Sep 26 2020         Valencia CF  1-1             SD Huesca"
      ]
     },
     "execution_count": 15,
     "metadata": {},
     "output_type": "execute_result"
    }
   ],
   "source": [
    "laliga_data.head(20)"
   ]
  },
  {
   "cell_type": "markdown",
   "id": "9b86f3e3",
   "metadata": {},
   "source": [
    "# Describe Data"
   ]
  },
  {
   "cell_type": "code",
   "execution_count": 16,
   "id": "0863c6aa",
   "metadata": {},
   "outputs": [
    {
     "data": {
      "text/plain": [
       "Round      int64\n",
       "Date      object\n",
       "Team 1    object\n",
       "FT        object\n",
       "Team 2    object\n",
       "dtype: object"
      ]
     },
     "execution_count": 16,
     "metadata": {},
     "output_type": "execute_result"
    }
   ],
   "source": [
    "laliga_data.dtypes"
   ]
  },
  {
   "cell_type": "code",
   "execution_count": 17,
   "id": "e3872860",
   "metadata": {},
   "outputs": [
    {
     "data": {
      "text/plain": [
       "Index(['Round', 'Date', 'Team 1', 'FT', 'Team 2'], dtype='object')"
      ]
     },
     "execution_count": 17,
     "metadata": {},
     "output_type": "execute_result"
    }
   ],
   "source": [
    "laliga_data.columns"
   ]
  },
  {
   "cell_type": "code",
   "execution_count": 18,
   "id": "bcd1d092",
   "metadata": {},
   "outputs": [
    {
     "data": {
      "text/html": [
       "<div>\n",
       "<style scoped>\n",
       "    .dataframe tbody tr th:only-of-type {\n",
       "        vertical-align: middle;\n",
       "    }\n",
       "\n",
       "    .dataframe tbody tr th {\n",
       "        vertical-align: top;\n",
       "    }\n",
       "\n",
       "    .dataframe thead th {\n",
       "        text-align: right;\n",
       "    }\n",
       "</style>\n",
       "<table border=\"1\" class=\"dataframe\">\n",
       "  <thead>\n",
       "    <tr style=\"text-align: right;\">\n",
       "      <th></th>\n",
       "      <th>Round</th>\n",
       "    </tr>\n",
       "  </thead>\n",
       "  <tbody>\n",
       "    <tr>\n",
       "      <th>count</th>\n",
       "      <td>380.000000</td>\n",
       "    </tr>\n",
       "    <tr>\n",
       "      <th>mean</th>\n",
       "      <td>19.500000</td>\n",
       "    </tr>\n",
       "    <tr>\n",
       "      <th>std</th>\n",
       "      <td>10.980313</td>\n",
       "    </tr>\n",
       "    <tr>\n",
       "      <th>min</th>\n",
       "      <td>1.000000</td>\n",
       "    </tr>\n",
       "    <tr>\n",
       "      <th>25%</th>\n",
       "      <td>10.000000</td>\n",
       "    </tr>\n",
       "    <tr>\n",
       "      <th>50%</th>\n",
       "      <td>19.500000</td>\n",
       "    </tr>\n",
       "    <tr>\n",
       "      <th>75%</th>\n",
       "      <td>29.000000</td>\n",
       "    </tr>\n",
       "    <tr>\n",
       "      <th>max</th>\n",
       "      <td>38.000000</td>\n",
       "    </tr>\n",
       "  </tbody>\n",
       "</table>\n",
       "</div>"
      ],
      "text/plain": [
       "            Round\n",
       "count  380.000000\n",
       "mean    19.500000\n",
       "std     10.980313\n",
       "min      1.000000\n",
       "25%     10.000000\n",
       "50%     19.500000\n",
       "75%     29.000000\n",
       "max     38.000000"
      ]
     },
     "execution_count": 18,
     "metadata": {},
     "output_type": "execute_result"
    }
   ],
   "source": [
    "laliga_data.describe()"
   ]
  },
  {
   "cell_type": "code",
   "execution_count": 19,
   "id": "a57e120f",
   "metadata": {},
   "outputs": [
    {
     "name": "stdout",
     "output_type": "stream",
     "text": [
      "<class 'pandas.core.frame.DataFrame'>\n",
      "RangeIndex: 380 entries, 0 to 379\n",
      "Data columns (total 5 columns):\n",
      " #   Column  Non-Null Count  Dtype \n",
      "---  ------  --------------  ----- \n",
      " 0   Round   380 non-null    int64 \n",
      " 1   Date    380 non-null    object\n",
      " 2   Team 1  380 non-null    object\n",
      " 3   FT      83 non-null     object\n",
      " 4   Team 2  380 non-null    object\n",
      "dtypes: int64(1), object(4)\n",
      "memory usage: 15.0+ KB\n"
     ]
    }
   ],
   "source": [
    "laliga_data.info()"
   ]
  },
  {
   "cell_type": "code",
   "execution_count": 20,
   "id": "ec88d01e",
   "metadata": {},
   "outputs": [
    {
     "data": {
      "text/html": [
       "<div>\n",
       "<style scoped>\n",
       "    .dataframe tbody tr th:only-of-type {\n",
       "        vertical-align: middle;\n",
       "    }\n",
       "\n",
       "    .dataframe tbody tr th {\n",
       "        vertical-align: top;\n",
       "    }\n",
       "\n",
       "    .dataframe thead th {\n",
       "        text-align: right;\n",
       "    }\n",
       "</style>\n",
       "<table border=\"1\" class=\"dataframe\">\n",
       "  <thead>\n",
       "    <tr style=\"text-align: right;\">\n",
       "      <th></th>\n",
       "      <th>Round</th>\n",
       "      <th>Date</th>\n",
       "      <th>Team 1</th>\n",
       "      <th>FT</th>\n",
       "      <th>Team 2</th>\n",
       "    </tr>\n",
       "  </thead>\n",
       "  <tbody>\n",
       "    <tr>\n",
       "      <th>0</th>\n",
       "      <td>1</td>\n",
       "      <td>Sat Sep 12 2020</td>\n",
       "      <td>SD Eibar</td>\n",
       "      <td>0-0</td>\n",
       "      <td>RC Celta Vigo</td>\n",
       "    </tr>\n",
       "    <tr>\n",
       "      <th>1</th>\n",
       "      <td>1</td>\n",
       "      <td>Sat Sep 12 2020</td>\n",
       "      <td>Granada CF</td>\n",
       "      <td>2-0</td>\n",
       "      <td>Athletic Club Bilbao</td>\n",
       "    </tr>\n",
       "    <tr>\n",
       "      <th>2</th>\n",
       "      <td>1</td>\n",
       "      <td>Sat Sep 12 2020</td>\n",
       "      <td>Cádiz CF</td>\n",
       "      <td>0-2</td>\n",
       "      <td>CA Osasuna</td>\n",
       "    </tr>\n",
       "    <tr>\n",
       "      <th>3</th>\n",
       "      <td>1</td>\n",
       "      <td>Sun Sep 13 2020</td>\n",
       "      <td>FC Barcelona</td>\n",
       "      <td>NaN</td>\n",
       "      <td>Elche CF</td>\n",
       "    </tr>\n",
       "    <tr>\n",
       "      <th>4</th>\n",
       "      <td>1</td>\n",
       "      <td>Sun Sep 13 2020</td>\n",
       "      <td>Real Madrid</td>\n",
       "      <td>NaN</td>\n",
       "      <td>Getafe CF</td>\n",
       "    </tr>\n",
       "    <tr>\n",
       "      <th>...</th>\n",
       "      <td>...</td>\n",
       "      <td>...</td>\n",
       "      <td>...</td>\n",
       "      <td>...</td>\n",
       "      <td>...</td>\n",
       "    </tr>\n",
       "    <tr>\n",
       "      <th>375</th>\n",
       "      <td>38</td>\n",
       "      <td>Sun May 23 2021</td>\n",
       "      <td>CA Osasuna</td>\n",
       "      <td>NaN</td>\n",
       "      <td>Real Sociedad</td>\n",
       "    </tr>\n",
       "    <tr>\n",
       "      <th>376</th>\n",
       "      <td>38</td>\n",
       "      <td>Sun May 23 2021</td>\n",
       "      <td>Real Madrid</td>\n",
       "      <td>NaN</td>\n",
       "      <td>Villarreal CF</td>\n",
       "    </tr>\n",
       "    <tr>\n",
       "      <th>377</th>\n",
       "      <td>38</td>\n",
       "      <td>Sun May 23 2021</td>\n",
       "      <td>Sevilla FC</td>\n",
       "      <td>NaN</td>\n",
       "      <td>Deportivo Alavés</td>\n",
       "    </tr>\n",
       "    <tr>\n",
       "      <th>378</th>\n",
       "      <td>38</td>\n",
       "      <td>Sun May 23 2021</td>\n",
       "      <td>Real Valladolid CF</td>\n",
       "      <td>NaN</td>\n",
       "      <td>Atlético Madrid</td>\n",
       "    </tr>\n",
       "    <tr>\n",
       "      <th>379</th>\n",
       "      <td>38</td>\n",
       "      <td>Sun May 23 2021</td>\n",
       "      <td>Elche CF</td>\n",
       "      <td>NaN</td>\n",
       "      <td>Athletic Club Bilbao</td>\n",
       "    </tr>\n",
       "  </tbody>\n",
       "</table>\n",
       "<p>380 rows × 5 columns</p>\n",
       "</div>"
      ],
      "text/plain": [
       "     Round             Date              Team 1   FT                Team 2\n",
       "0        1  Sat Sep 12 2020            SD Eibar  0-0         RC Celta Vigo\n",
       "1        1  Sat Sep 12 2020          Granada CF  2-0  Athletic Club Bilbao\n",
       "2        1  Sat Sep 12 2020            Cádiz CF  0-2            CA Osasuna\n",
       "3        1  Sun Sep 13 2020        FC Barcelona  NaN              Elche CF\n",
       "4        1  Sun Sep 13 2020         Real Madrid  NaN             Getafe CF\n",
       "..     ...              ...                 ...  ...                   ...\n",
       "375     38  Sun May 23 2021          CA Osasuna  NaN         Real Sociedad\n",
       "376     38  Sun May 23 2021         Real Madrid  NaN         Villarreal CF\n",
       "377     38  Sun May 23 2021          Sevilla FC  NaN      Deportivo Alavés\n",
       "378     38  Sun May 23 2021  Real Valladolid CF  NaN       Atlético Madrid\n",
       "379     38  Sun May 23 2021            Elche CF  NaN  Athletic Club Bilbao\n",
       "\n",
       "[380 rows x 5 columns]"
      ]
     },
     "execution_count": 20,
     "metadata": {},
     "output_type": "execute_result"
    }
   ],
   "source": [
    "laliga_data"
   ]
  },
  {
   "cell_type": "code",
   "execution_count": 21,
   "id": "49e3581e",
   "metadata": {},
   "outputs": [
    {
     "ename": "AttributeError",
     "evalue": "module 'pandas' has no attribute 'to_csv'",
     "output_type": "error",
     "traceback": [
      "\u001b[1;31m---------------------------------------------------------------------------\u001b[0m",
      "\u001b[1;31mAttributeError\u001b[0m                            Traceback (most recent call last)",
      "Cell \u001b[1;32mIn[21], line 1\u001b[0m\n\u001b[1;32m----> 1\u001b[0m copy_laliga_data\u001b[38;5;241m=\u001b[39mpd\u001b[38;5;241m.\u001b[39mto_csv(\u001b[38;5;124m\"\u001b[39m\u001b[38;5;124mes.1.csv\u001b[39m\u001b[38;5;124m\"\u001b[39m)\n",
      "File \u001b[1;32mH:\\sample_project\\env\\Lib\\site-packages\\pandas\\__init__.py:264\u001b[0m, in \u001b[0;36m__getattr__\u001b[1;34m(name)\u001b[0m\n\u001b[0;32m    260\u001b[0m     \u001b[38;5;28;01mfrom\u001b[39;00m \u001b[38;5;21;01mpandas\u001b[39;00m\u001b[38;5;21;01m.\u001b[39;00m\u001b[38;5;21;01mcore\u001b[39;00m\u001b[38;5;21;01m.\u001b[39;00m\u001b[38;5;21;01marrays\u001b[39;00m\u001b[38;5;21;01m.\u001b[39;00m\u001b[38;5;21;01msparse\u001b[39;00m \u001b[38;5;28;01mimport\u001b[39;00m SparseArray \u001b[38;5;28;01mas\u001b[39;00m _SparseArray\n\u001b[0;32m    262\u001b[0m     \u001b[38;5;28;01mreturn\u001b[39;00m _SparseArray\n\u001b[1;32m--> 264\u001b[0m \u001b[38;5;28;01mraise\u001b[39;00m \u001b[38;5;167;01mAttributeError\u001b[39;00m(\u001b[38;5;124mf\u001b[39m\u001b[38;5;124m\"\u001b[39m\u001b[38;5;124mmodule \u001b[39m\u001b[38;5;124m'\u001b[39m\u001b[38;5;124mpandas\u001b[39m\u001b[38;5;124m'\u001b[39m\u001b[38;5;124m has no attribute \u001b[39m\u001b[38;5;124m'\u001b[39m\u001b[38;5;132;01m{\u001b[39;00mname\u001b[38;5;132;01m}\u001b[39;00m\u001b[38;5;124m'\u001b[39m\u001b[38;5;124m\"\u001b[39m)\n",
      "\u001b[1;31mAttributeError\u001b[0m: module 'pandas' has no attribute 'to_csv'"
     ]
    }
   ],
   "source": [
    "copy_laliga_data=pd.to_csv(\"es.1.csv\")"
   ]
  },
  {
   "cell_type": "code",
   "execution_count": 22,
   "id": "ac54eb82",
   "metadata": {},
   "outputs": [],
   "source": [
    "laliga_data.to_csv(\"Copy_laliga_data\")"
   ]
  },
  {
   "cell_type": "code",
   "execution_count": 23,
   "id": "e502b68b",
   "metadata": {},
   "outputs": [
    {
     "data": {
      "text/html": [
       "<div>\n",
       "<style scoped>\n",
       "    .dataframe tbody tr th:only-of-type {\n",
       "        vertical-align: middle;\n",
       "    }\n",
       "\n",
       "    .dataframe tbody tr th {\n",
       "        vertical-align: top;\n",
       "    }\n",
       "\n",
       "    .dataframe thead th {\n",
       "        text-align: right;\n",
       "    }\n",
       "</style>\n",
       "<table border=\"1\" class=\"dataframe\">\n",
       "  <thead>\n",
       "    <tr style=\"text-align: right;\">\n",
       "      <th></th>\n",
       "      <th>Unnamed: 0</th>\n",
       "      <th>Round</th>\n",
       "      <th>Date</th>\n",
       "      <th>Team 1</th>\n",
       "      <th>FT</th>\n",
       "      <th>Team 2</th>\n",
       "    </tr>\n",
       "  </thead>\n",
       "  <tbody>\n",
       "    <tr>\n",
       "      <th>0</th>\n",
       "      <td>0</td>\n",
       "      <td>1</td>\n",
       "      <td>Sat Sep 12 2020</td>\n",
       "      <td>SD Eibar</td>\n",
       "      <td>0-0</td>\n",
       "      <td>RC Celta Vigo</td>\n",
       "    </tr>\n",
       "    <tr>\n",
       "      <th>1</th>\n",
       "      <td>1</td>\n",
       "      <td>1</td>\n",
       "      <td>Sat Sep 12 2020</td>\n",
       "      <td>Granada CF</td>\n",
       "      <td>2-0</td>\n",
       "      <td>Athletic Club Bilbao</td>\n",
       "    </tr>\n",
       "    <tr>\n",
       "      <th>2</th>\n",
       "      <td>2</td>\n",
       "      <td>1</td>\n",
       "      <td>Sat Sep 12 2020</td>\n",
       "      <td>Cádiz CF</td>\n",
       "      <td>0-2</td>\n",
       "      <td>CA Osasuna</td>\n",
       "    </tr>\n",
       "    <tr>\n",
       "      <th>3</th>\n",
       "      <td>3</td>\n",
       "      <td>1</td>\n",
       "      <td>Sun Sep 13 2020</td>\n",
       "      <td>FC Barcelona</td>\n",
       "      <td>NaN</td>\n",
       "      <td>Elche CF</td>\n",
       "    </tr>\n",
       "    <tr>\n",
       "      <th>4</th>\n",
       "      <td>4</td>\n",
       "      <td>1</td>\n",
       "      <td>Sun Sep 13 2020</td>\n",
       "      <td>Real Madrid</td>\n",
       "      <td>NaN</td>\n",
       "      <td>Getafe CF</td>\n",
       "    </tr>\n",
       "    <tr>\n",
       "      <th>...</th>\n",
       "      <td>...</td>\n",
       "      <td>...</td>\n",
       "      <td>...</td>\n",
       "      <td>...</td>\n",
       "      <td>...</td>\n",
       "      <td>...</td>\n",
       "    </tr>\n",
       "    <tr>\n",
       "      <th>375</th>\n",
       "      <td>375</td>\n",
       "      <td>38</td>\n",
       "      <td>Sun May 23 2021</td>\n",
       "      <td>CA Osasuna</td>\n",
       "      <td>NaN</td>\n",
       "      <td>Real Sociedad</td>\n",
       "    </tr>\n",
       "    <tr>\n",
       "      <th>376</th>\n",
       "      <td>376</td>\n",
       "      <td>38</td>\n",
       "      <td>Sun May 23 2021</td>\n",
       "      <td>Real Madrid</td>\n",
       "      <td>NaN</td>\n",
       "      <td>Villarreal CF</td>\n",
       "    </tr>\n",
       "    <tr>\n",
       "      <th>377</th>\n",
       "      <td>377</td>\n",
       "      <td>38</td>\n",
       "      <td>Sun May 23 2021</td>\n",
       "      <td>Sevilla FC</td>\n",
       "      <td>NaN</td>\n",
       "      <td>Deportivo Alavés</td>\n",
       "    </tr>\n",
       "    <tr>\n",
       "      <th>378</th>\n",
       "      <td>378</td>\n",
       "      <td>38</td>\n",
       "      <td>Sun May 23 2021</td>\n",
       "      <td>Real Valladolid CF</td>\n",
       "      <td>NaN</td>\n",
       "      <td>Atlético Madrid</td>\n",
       "    </tr>\n",
       "    <tr>\n",
       "      <th>379</th>\n",
       "      <td>379</td>\n",
       "      <td>38</td>\n",
       "      <td>Sun May 23 2021</td>\n",
       "      <td>Elche CF</td>\n",
       "      <td>NaN</td>\n",
       "      <td>Athletic Club Bilbao</td>\n",
       "    </tr>\n",
       "  </tbody>\n",
       "</table>\n",
       "<p>380 rows × 6 columns</p>\n",
       "</div>"
      ],
      "text/plain": [
       "     Unnamed: 0  Round             Date              Team 1   FT  \\\n",
       "0             0      1  Sat Sep 12 2020            SD Eibar  0-0   \n",
       "1             1      1  Sat Sep 12 2020          Granada CF  2-0   \n",
       "2             2      1  Sat Sep 12 2020            Cádiz CF  0-2   \n",
       "3             3      1  Sun Sep 13 2020        FC Barcelona  NaN   \n",
       "4             4      1  Sun Sep 13 2020         Real Madrid  NaN   \n",
       "..          ...    ...              ...                 ...  ...   \n",
       "375         375     38  Sun May 23 2021          CA Osasuna  NaN   \n",
       "376         376     38  Sun May 23 2021         Real Madrid  NaN   \n",
       "377         377     38  Sun May 23 2021          Sevilla FC  NaN   \n",
       "378         378     38  Sun May 23 2021  Real Valladolid CF  NaN   \n",
       "379         379     38  Sun May 23 2021            Elche CF  NaN   \n",
       "\n",
       "                   Team 2  \n",
       "0           RC Celta Vigo  \n",
       "1    Athletic Club Bilbao  \n",
       "2              CA Osasuna  \n",
       "3                Elche CF  \n",
       "4               Getafe CF  \n",
       "..                    ...  \n",
       "375         Real Sociedad  \n",
       "376         Villarreal CF  \n",
       "377      Deportivo Alavés  \n",
       "378       Atlético Madrid  \n",
       "379  Athletic Club Bilbao  \n",
       "\n",
       "[380 rows x 6 columns]"
      ]
     },
     "execution_count": 23,
     "metadata": {},
     "output_type": "execute_result"
    }
   ],
   "source": [
    "copy_laliga_data=pd.read_csv(\"Copy_laliga_data\")\n",
    "copy_laliga_data"
   ]
  },
  {
   "cell_type": "code",
   "execution_count": 24,
   "id": "4fb5aa84",
   "metadata": {},
   "outputs": [
    {
     "data": {
      "text/plain": [
       "Unnamed: 0     int64\n",
       "Round          int64\n",
       "Date          object\n",
       "Team 1        object\n",
       "FT            object\n",
       "Team 2        object\n",
       "dtype: object"
      ]
     },
     "execution_count": 24,
     "metadata": {},
     "output_type": "execute_result"
    }
   ],
   "source": [
    "copy_laliga_data.dtypes"
   ]
  },
  {
   "cell_type": "code",
   "execution_count": 25,
   "id": "99384805",
   "metadata": {},
   "outputs": [
    {
     "data": {
      "text/plain": [
       "Index(['Unnamed: 0', 'Round', 'Date', 'Team 1', 'FT', 'Team 2'], dtype='object')"
      ]
     },
     "execution_count": 25,
     "metadata": {},
     "output_type": "execute_result"
    }
   ],
   "source": [
    "copy_laliga_data.columns"
   ]
  },
  {
   "cell_type": "code",
   "execution_count": 26,
   "id": "4115e402",
   "metadata": {},
   "outputs": [
    {
     "data": {
      "text/plain": [
       "Index(['Round', 'Date', 'Team 1', 'FT', 'Team 2'], dtype='object')"
      ]
     },
     "execution_count": 26,
     "metadata": {},
     "output_type": "execute_result"
    }
   ],
   "source": [
    "laliga_data.columns"
   ]
  },
  {
   "cell_type": "code",
   "execution_count": 27,
   "id": "44db60aa",
   "metadata": {},
   "outputs": [
    {
     "data": {
      "text/plain": [
       "<bound method NDFrame.describe of      Unnamed: 0  Round             Date              Team 1   FT  \\\n",
       "0             0      1  Sat Sep 12 2020            SD Eibar  0-0   \n",
       "1             1      1  Sat Sep 12 2020          Granada CF  2-0   \n",
       "2             2      1  Sat Sep 12 2020            Cádiz CF  0-2   \n",
       "3             3      1  Sun Sep 13 2020        FC Barcelona  NaN   \n",
       "4             4      1  Sun Sep 13 2020         Real Madrid  NaN   \n",
       "..          ...    ...              ...                 ...  ...   \n",
       "375         375     38  Sun May 23 2021          CA Osasuna  NaN   \n",
       "376         376     38  Sun May 23 2021         Real Madrid  NaN   \n",
       "377         377     38  Sun May 23 2021          Sevilla FC  NaN   \n",
       "378         378     38  Sun May 23 2021  Real Valladolid CF  NaN   \n",
       "379         379     38  Sun May 23 2021            Elche CF  NaN   \n",
       "\n",
       "                   Team 2  \n",
       "0           RC Celta Vigo  \n",
       "1    Athletic Club Bilbao  \n",
       "2              CA Osasuna  \n",
       "3                Elche CF  \n",
       "4               Getafe CF  \n",
       "..                    ...  \n",
       "375         Real Sociedad  \n",
       "376         Villarreal CF  \n",
       "377      Deportivo Alavés  \n",
       "378       Atlético Madrid  \n",
       "379  Athletic Club Bilbao  \n",
       "\n",
       "[380 rows x 6 columns]>"
      ]
     },
     "execution_count": 27,
     "metadata": {},
     "output_type": "execute_result"
    }
   ],
   "source": [
    "copy_laliga_data.describe"
   ]
  },
  {
   "cell_type": "code",
   "execution_count": 28,
   "id": "aa73e02a",
   "metadata": {},
   "outputs": [
    {
     "data": {
      "text/html": [
       "<div>\n",
       "<style scoped>\n",
       "    .dataframe tbody tr th:only-of-type {\n",
       "        vertical-align: middle;\n",
       "    }\n",
       "\n",
       "    .dataframe tbody tr th {\n",
       "        vertical-align: top;\n",
       "    }\n",
       "\n",
       "    .dataframe thead th {\n",
       "        text-align: right;\n",
       "    }\n",
       "</style>\n",
       "<table border=\"1\" class=\"dataframe\">\n",
       "  <thead>\n",
       "    <tr style=\"text-align: right;\">\n",
       "      <th></th>\n",
       "      <th>Unnamed: 0</th>\n",
       "      <th>Round</th>\n",
       "    </tr>\n",
       "  </thead>\n",
       "  <tbody>\n",
       "    <tr>\n",
       "      <th>count</th>\n",
       "      <td>380.000000</td>\n",
       "      <td>380.000000</td>\n",
       "    </tr>\n",
       "    <tr>\n",
       "      <th>mean</th>\n",
       "      <td>189.500000</td>\n",
       "      <td>19.500000</td>\n",
       "    </tr>\n",
       "    <tr>\n",
       "      <th>std</th>\n",
       "      <td>109.840794</td>\n",
       "      <td>10.980313</td>\n",
       "    </tr>\n",
       "    <tr>\n",
       "      <th>min</th>\n",
       "      <td>0.000000</td>\n",
       "      <td>1.000000</td>\n",
       "    </tr>\n",
       "    <tr>\n",
       "      <th>25%</th>\n",
       "      <td>94.750000</td>\n",
       "      <td>10.000000</td>\n",
       "    </tr>\n",
       "    <tr>\n",
       "      <th>50%</th>\n",
       "      <td>189.500000</td>\n",
       "      <td>19.500000</td>\n",
       "    </tr>\n",
       "    <tr>\n",
       "      <th>75%</th>\n",
       "      <td>284.250000</td>\n",
       "      <td>29.000000</td>\n",
       "    </tr>\n",
       "    <tr>\n",
       "      <th>max</th>\n",
       "      <td>379.000000</td>\n",
       "      <td>38.000000</td>\n",
       "    </tr>\n",
       "  </tbody>\n",
       "</table>\n",
       "</div>"
      ],
      "text/plain": [
       "       Unnamed: 0       Round\n",
       "count  380.000000  380.000000\n",
       "mean   189.500000   19.500000\n",
       "std    109.840794   10.980313\n",
       "min      0.000000    1.000000\n",
       "25%     94.750000   10.000000\n",
       "50%    189.500000   19.500000\n",
       "75%    284.250000   29.000000\n",
       "max    379.000000   38.000000"
      ]
     },
     "execution_count": 28,
     "metadata": {},
     "output_type": "execute_result"
    }
   ],
   "source": [
    "copy_laliga_data.describe()"
   ]
  },
  {
   "cell_type": "code",
   "execution_count": 29,
   "id": "04dd0f2f",
   "metadata": {},
   "outputs": [
    {
     "data": {
      "text/html": [
       "<div>\n",
       "<style scoped>\n",
       "    .dataframe tbody tr th:only-of-type {\n",
       "        vertical-align: middle;\n",
       "    }\n",
       "\n",
       "    .dataframe tbody tr th {\n",
       "        vertical-align: top;\n",
       "    }\n",
       "\n",
       "    .dataframe thead th {\n",
       "        text-align: right;\n",
       "    }\n",
       "</style>\n",
       "<table border=\"1\" class=\"dataframe\">\n",
       "  <thead>\n",
       "    <tr style=\"text-align: right;\">\n",
       "      <th></th>\n",
       "      <th>Round</th>\n",
       "      <th>Date</th>\n",
       "      <th>Team 1</th>\n",
       "      <th>FT</th>\n",
       "      <th>Team 2</th>\n",
       "    </tr>\n",
       "  </thead>\n",
       "  <tbody>\n",
       "    <tr>\n",
       "      <th>0</th>\n",
       "      <td>1</td>\n",
       "      <td>Sat Sep 12 2020</td>\n",
       "      <td>SD Eibar</td>\n",
       "      <td>0-0</td>\n",
       "      <td>RC Celta Vigo</td>\n",
       "    </tr>\n",
       "    <tr>\n",
       "      <th>1</th>\n",
       "      <td>1</td>\n",
       "      <td>Sat Sep 12 2020</td>\n",
       "      <td>Granada CF</td>\n",
       "      <td>2-0</td>\n",
       "      <td>Athletic Club Bilbao</td>\n",
       "    </tr>\n",
       "    <tr>\n",
       "      <th>2</th>\n",
       "      <td>1</td>\n",
       "      <td>Sat Sep 12 2020</td>\n",
       "      <td>Cádiz CF</td>\n",
       "      <td>0-2</td>\n",
       "      <td>CA Osasuna</td>\n",
       "    </tr>\n",
       "    <tr>\n",
       "      <th>3</th>\n",
       "      <td>1</td>\n",
       "      <td>Sun Sep 13 2020</td>\n",
       "      <td>FC Barcelona</td>\n",
       "      <td>NaN</td>\n",
       "      <td>Elche CF</td>\n",
       "    </tr>\n",
       "    <tr>\n",
       "      <th>4</th>\n",
       "      <td>1</td>\n",
       "      <td>Sun Sep 13 2020</td>\n",
       "      <td>Real Madrid</td>\n",
       "      <td>NaN</td>\n",
       "      <td>Getafe CF</td>\n",
       "    </tr>\n",
       "  </tbody>\n",
       "</table>\n",
       "</div>"
      ],
      "text/plain": [
       "   Round             Date        Team 1   FT                Team 2\n",
       "0      1  Sat Sep 12 2020      SD Eibar  0-0         RC Celta Vigo\n",
       "1      1  Sat Sep 12 2020    Granada CF  2-0  Athletic Club Bilbao\n",
       "2      1  Sat Sep 12 2020      Cádiz CF  0-2            CA Osasuna\n",
       "3      1  Sun Sep 13 2020  FC Barcelona  NaN              Elche CF\n",
       "4      1  Sun Sep 13 2020   Real Madrid  NaN             Getafe CF"
      ]
     },
     "execution_count": 29,
     "metadata": {},
     "output_type": "execute_result"
    }
   ],
   "source": [
    "laliga_data.head()"
   ]
  },
  {
   "cell_type": "code",
   "execution_count": 30,
   "id": "3c454d17",
   "metadata": {},
   "outputs": [
    {
     "data": {
      "text/html": [
       "<div>\n",
       "<style scoped>\n",
       "    .dataframe tbody tr th:only-of-type {\n",
       "        vertical-align: middle;\n",
       "    }\n",
       "\n",
       "    .dataframe tbody tr th {\n",
       "        vertical-align: top;\n",
       "    }\n",
       "\n",
       "    .dataframe thead th {\n",
       "        text-align: right;\n",
       "    }\n",
       "</style>\n",
       "<table border=\"1\" class=\"dataframe\">\n",
       "  <thead>\n",
       "    <tr style=\"text-align: right;\">\n",
       "      <th></th>\n",
       "      <th>Unnamed: 0</th>\n",
       "      <th>Round</th>\n",
       "      <th>Date</th>\n",
       "      <th>Team 1</th>\n",
       "      <th>FT</th>\n",
       "      <th>Team 2</th>\n",
       "    </tr>\n",
       "  </thead>\n",
       "  <tbody>\n",
       "    <tr>\n",
       "      <th>0</th>\n",
       "      <td>0</td>\n",
       "      <td>1</td>\n",
       "      <td>Sat Sep 12 2020</td>\n",
       "      <td>SD Eibar</td>\n",
       "      <td>0-0</td>\n",
       "      <td>RC Celta Vigo</td>\n",
       "    </tr>\n",
       "    <tr>\n",
       "      <th>1</th>\n",
       "      <td>1</td>\n",
       "      <td>1</td>\n",
       "      <td>Sat Sep 12 2020</td>\n",
       "      <td>Granada CF</td>\n",
       "      <td>2-0</td>\n",
       "      <td>Athletic Club Bilbao</td>\n",
       "    </tr>\n",
       "    <tr>\n",
       "      <th>2</th>\n",
       "      <td>2</td>\n",
       "      <td>1</td>\n",
       "      <td>Sat Sep 12 2020</td>\n",
       "      <td>Cádiz CF</td>\n",
       "      <td>0-2</td>\n",
       "      <td>CA Osasuna</td>\n",
       "    </tr>\n",
       "    <tr>\n",
       "      <th>3</th>\n",
       "      <td>3</td>\n",
       "      <td>1</td>\n",
       "      <td>Sun Sep 13 2020</td>\n",
       "      <td>FC Barcelona</td>\n",
       "      <td>NaN</td>\n",
       "      <td>Elche CF</td>\n",
       "    </tr>\n",
       "    <tr>\n",
       "      <th>4</th>\n",
       "      <td>4</td>\n",
       "      <td>1</td>\n",
       "      <td>Sun Sep 13 2020</td>\n",
       "      <td>Real Madrid</td>\n",
       "      <td>NaN</td>\n",
       "      <td>Getafe CF</td>\n",
       "    </tr>\n",
       "  </tbody>\n",
       "</table>\n",
       "</div>"
      ],
      "text/plain": [
       "   Unnamed: 0  Round             Date        Team 1   FT                Team 2\n",
       "0           0      1  Sat Sep 12 2020      SD Eibar  0-0         RC Celta Vigo\n",
       "1           1      1  Sat Sep 12 2020    Granada CF  2-0  Athletic Club Bilbao\n",
       "2           2      1  Sat Sep 12 2020      Cádiz CF  0-2            CA Osasuna\n",
       "3           3      1  Sun Sep 13 2020  FC Barcelona  NaN              Elche CF\n",
       "4           4      1  Sun Sep 13 2020   Real Madrid  NaN             Getafe CF"
      ]
     },
     "execution_count": 30,
     "metadata": {},
     "output_type": "execute_result"
    }
   ],
   "source": [
    "copy_laliga_data.head(5)\n"
   ]
  },
  {
   "cell_type": "code",
   "execution_count": 31,
   "id": "395e6a91",
   "metadata": {
    "scrolled": true
   },
   "outputs": [
    {
     "data": {
      "text/plain": [
       "<bound method DataFrame.count of      Round             Date              Team 1   FT                Team 2\n",
       "0        1  Sat Sep 12 2020            SD Eibar  0-0         RC Celta Vigo\n",
       "1        1  Sat Sep 12 2020          Granada CF  2-0  Athletic Club Bilbao\n",
       "2        1  Sat Sep 12 2020            Cádiz CF  0-2            CA Osasuna\n",
       "3        1  Sun Sep 13 2020        FC Barcelona  NaN              Elche CF\n",
       "4        1  Sun Sep 13 2020         Real Madrid  NaN             Getafe CF\n",
       "..     ...              ...                 ...  ...                   ...\n",
       "375     38  Sun May 23 2021          CA Osasuna  NaN         Real Sociedad\n",
       "376     38  Sun May 23 2021         Real Madrid  NaN         Villarreal CF\n",
       "377     38  Sun May 23 2021          Sevilla FC  NaN      Deportivo Alavés\n",
       "378     38  Sun May 23 2021  Real Valladolid CF  NaN       Atlético Madrid\n",
       "379     38  Sun May 23 2021            Elche CF  NaN  Athletic Club Bilbao\n",
       "\n",
       "[380 rows x 5 columns]>"
      ]
     },
     "execution_count": 31,
     "metadata": {},
     "output_type": "execute_result"
    }
   ],
   "source": [
    "laliga_data.count"
   ]
  },
  {
   "cell_type": "code",
   "execution_count": 32,
   "id": "e604ba93",
   "metadata": {},
   "outputs": [
    {
     "ename": "NameError",
     "evalue": "name 'laliga' is not defined",
     "output_type": "error",
     "traceback": [
      "\u001b[1;31m---------------------------------------------------------------------------\u001b[0m",
      "\u001b[1;31mNameError\u001b[0m                                 Traceback (most recent call last)",
      "Cell \u001b[1;32mIn[32], line 1\u001b[0m\n\u001b[1;32m----> 1\u001b[0m laliga\n",
      "\u001b[1;31mNameError\u001b[0m: name 'laliga' is not defined"
     ]
    }
   ],
   "source": [
    "laliga"
   ]
  },
  {
   "cell_type": "code",
   "execution_count": 33,
   "id": "de0a3e20",
   "metadata": {},
   "outputs": [
    {
     "data": {
      "text/plain": [
       "Index(['Unnamed: 0', 'Round', 'Date', 'Team 1', 'FT', 'Team 2'], dtype='object')"
      ]
     },
     "execution_count": 33,
     "metadata": {},
     "output_type": "execute_result"
    }
   ],
   "source": [
    "copy_laliga_data.columns"
   ]
  },
  {
   "cell_type": "code",
   "execution_count": 34,
   "id": "b8430aed",
   "metadata": {},
   "outputs": [
    {
     "data": {
      "text/html": [
       "<div>\n",
       "<style scoped>\n",
       "    .dataframe tbody tr th:only-of-type {\n",
       "        vertical-align: middle;\n",
       "    }\n",
       "\n",
       "    .dataframe tbody tr th {\n",
       "        vertical-align: top;\n",
       "    }\n",
       "\n",
       "    .dataframe thead th {\n",
       "        text-align: right;\n",
       "    }\n",
       "</style>\n",
       "<table border=\"1\" class=\"dataframe\">\n",
       "  <thead>\n",
       "    <tr style=\"text-align: right;\">\n",
       "      <th></th>\n",
       "      <th>Round</th>\n",
       "      <th>Date</th>\n",
       "      <th>Team 1</th>\n",
       "      <th>FT</th>\n",
       "      <th>Team 2</th>\n",
       "    </tr>\n",
       "  </thead>\n",
       "  <tbody>\n",
       "    <tr>\n",
       "      <th>0</th>\n",
       "      <td>1</td>\n",
       "      <td>Sat Sep 12 2020</td>\n",
       "      <td>SD Eibar</td>\n",
       "      <td>0-0</td>\n",
       "      <td>RC Celta Vigo</td>\n",
       "    </tr>\n",
       "    <tr>\n",
       "      <th>1</th>\n",
       "      <td>1</td>\n",
       "      <td>Sat Sep 12 2020</td>\n",
       "      <td>Granada CF</td>\n",
       "      <td>2-0</td>\n",
       "      <td>Athletic Club Bilbao</td>\n",
       "    </tr>\n",
       "    <tr>\n",
       "      <th>2</th>\n",
       "      <td>1</td>\n",
       "      <td>Sat Sep 12 2020</td>\n",
       "      <td>Cádiz CF</td>\n",
       "      <td>0-2</td>\n",
       "      <td>CA Osasuna</td>\n",
       "    </tr>\n",
       "    <tr>\n",
       "      <th>3</th>\n",
       "      <td>1</td>\n",
       "      <td>Sun Sep 13 2020</td>\n",
       "      <td>FC Barcelona</td>\n",
       "      <td>NaN</td>\n",
       "      <td>Elche CF</td>\n",
       "    </tr>\n",
       "    <tr>\n",
       "      <th>4</th>\n",
       "      <td>1</td>\n",
       "      <td>Sun Sep 13 2020</td>\n",
       "      <td>Real Madrid</td>\n",
       "      <td>NaN</td>\n",
       "      <td>Getafe CF</td>\n",
       "    </tr>\n",
       "  </tbody>\n",
       "</table>\n",
       "</div>"
      ],
      "text/plain": [
       "   Round             Date        Team 1   FT                Team 2\n",
       "0      1  Sat Sep 12 2020      SD Eibar  0-0         RC Celta Vigo\n",
       "1      1  Sat Sep 12 2020    Granada CF  2-0  Athletic Club Bilbao\n",
       "2      1  Sat Sep 12 2020      Cádiz CF  0-2            CA Osasuna\n",
       "3      1  Sun Sep 13 2020  FC Barcelona  NaN              Elche CF\n",
       "4      1  Sun Sep 13 2020   Real Madrid  NaN             Getafe CF"
      ]
     },
     "execution_count": 34,
     "metadata": {},
     "output_type": "execute_result"
    }
   ],
   "source": [
    "laliga_data.head()\n"
   ]
  },
  {
   "cell_type": "code",
   "execution_count": 35,
   "id": "74347b1d",
   "metadata": {},
   "outputs": [
    {
     "data": {
      "text/html": [
       "<div>\n",
       "<style scoped>\n",
       "    .dataframe tbody tr th:only-of-type {\n",
       "        vertical-align: middle;\n",
       "    }\n",
       "\n",
       "    .dataframe tbody tr th {\n",
       "        vertical-align: top;\n",
       "    }\n",
       "\n",
       "    .dataframe thead th {\n",
       "        text-align: right;\n",
       "    }\n",
       "</style>\n",
       "<table border=\"1\" class=\"dataframe\">\n",
       "  <thead>\n",
       "    <tr style=\"text-align: right;\">\n",
       "      <th></th>\n",
       "      <th>Round</th>\n",
       "      <th>Date</th>\n",
       "      <th>Team 1</th>\n",
       "      <th>FT</th>\n",
       "      <th>Team 2</th>\n",
       "    </tr>\n",
       "  </thead>\n",
       "  <tbody>\n",
       "    <tr>\n",
       "      <th>375</th>\n",
       "      <td>38</td>\n",
       "      <td>Sun May 23 2021</td>\n",
       "      <td>CA Osasuna</td>\n",
       "      <td>NaN</td>\n",
       "      <td>Real Sociedad</td>\n",
       "    </tr>\n",
       "    <tr>\n",
       "      <th>376</th>\n",
       "      <td>38</td>\n",
       "      <td>Sun May 23 2021</td>\n",
       "      <td>Real Madrid</td>\n",
       "      <td>NaN</td>\n",
       "      <td>Villarreal CF</td>\n",
       "    </tr>\n",
       "    <tr>\n",
       "      <th>377</th>\n",
       "      <td>38</td>\n",
       "      <td>Sun May 23 2021</td>\n",
       "      <td>Sevilla FC</td>\n",
       "      <td>NaN</td>\n",
       "      <td>Deportivo Alavés</td>\n",
       "    </tr>\n",
       "    <tr>\n",
       "      <th>378</th>\n",
       "      <td>38</td>\n",
       "      <td>Sun May 23 2021</td>\n",
       "      <td>Real Valladolid CF</td>\n",
       "      <td>NaN</td>\n",
       "      <td>Atlético Madrid</td>\n",
       "    </tr>\n",
       "    <tr>\n",
       "      <th>379</th>\n",
       "      <td>38</td>\n",
       "      <td>Sun May 23 2021</td>\n",
       "      <td>Elche CF</td>\n",
       "      <td>NaN</td>\n",
       "      <td>Athletic Club Bilbao</td>\n",
       "    </tr>\n",
       "  </tbody>\n",
       "</table>\n",
       "</div>"
      ],
      "text/plain": [
       "     Round             Date              Team 1   FT                Team 2\n",
       "375     38  Sun May 23 2021          CA Osasuna  NaN         Real Sociedad\n",
       "376     38  Sun May 23 2021         Real Madrid  NaN         Villarreal CF\n",
       "377     38  Sun May 23 2021          Sevilla FC  NaN      Deportivo Alavés\n",
       "378     38  Sun May 23 2021  Real Valladolid CF  NaN       Atlético Madrid\n",
       "379     38  Sun May 23 2021            Elche CF  NaN  Athletic Club Bilbao"
      ]
     },
     "execution_count": 35,
     "metadata": {},
     "output_type": "execute_result"
    }
   ],
   "source": [
    "laliga_data.tail()"
   ]
  },
  {
   "cell_type": "code",
   "execution_count": 36,
   "id": "1aa9b558",
   "metadata": {},
   "outputs": [
    {
     "data": {
      "text/plain": [
       "Round                   1\n",
       "Date      Sat Sep 12 2020\n",
       "Team 1           Cádiz CF\n",
       "FT                    0-2\n",
       "Team 2         CA Osasuna\n",
       "Name: 2, dtype: object"
      ]
     },
     "execution_count": 36,
     "metadata": {},
     "output_type": "execute_result"
    }
   ],
   "source": [
    "laliga_data.loc[2]"
   ]
  },
  {
   "cell_type": "code",
   "execution_count": 37,
   "id": "7c661d80",
   "metadata": {},
   "outputs": [
    {
     "ename": "AttributeError",
     "evalue": "'DataFrame' object has no attribute 'ilocp'",
     "output_type": "error",
     "traceback": [
      "\u001b[1;31m---------------------------------------------------------------------------\u001b[0m",
      "\u001b[1;31mAttributeError\u001b[0m                            Traceback (most recent call last)",
      "Cell \u001b[1;32mIn[37], line 1\u001b[0m\n\u001b[1;32m----> 1\u001b[0m laliga_data\u001b[38;5;241m.\u001b[39milocp[\u001b[38;5;241m3\u001b[39m]\n",
      "File \u001b[1;32mH:\\sample_project\\env\\Lib\\site-packages\\pandas\\core\\generic.py:5902\u001b[0m, in \u001b[0;36mNDFrame.__getattr__\u001b[1;34m(self, name)\u001b[0m\n\u001b[0;32m   5895\u001b[0m \u001b[38;5;28;01mif\u001b[39;00m (\n\u001b[0;32m   5896\u001b[0m     name \u001b[38;5;129;01mnot\u001b[39;00m \u001b[38;5;129;01min\u001b[39;00m \u001b[38;5;28mself\u001b[39m\u001b[38;5;241m.\u001b[39m_internal_names_set\n\u001b[0;32m   5897\u001b[0m     \u001b[38;5;129;01mand\u001b[39;00m name \u001b[38;5;129;01mnot\u001b[39;00m \u001b[38;5;129;01min\u001b[39;00m \u001b[38;5;28mself\u001b[39m\u001b[38;5;241m.\u001b[39m_metadata\n\u001b[0;32m   5898\u001b[0m     \u001b[38;5;129;01mand\u001b[39;00m name \u001b[38;5;129;01mnot\u001b[39;00m \u001b[38;5;129;01min\u001b[39;00m \u001b[38;5;28mself\u001b[39m\u001b[38;5;241m.\u001b[39m_accessors\n\u001b[0;32m   5899\u001b[0m     \u001b[38;5;129;01mand\u001b[39;00m \u001b[38;5;28mself\u001b[39m\u001b[38;5;241m.\u001b[39m_info_axis\u001b[38;5;241m.\u001b[39m_can_hold_identifiers_and_holds_name(name)\n\u001b[0;32m   5900\u001b[0m ):\n\u001b[0;32m   5901\u001b[0m     \u001b[38;5;28;01mreturn\u001b[39;00m \u001b[38;5;28mself\u001b[39m[name]\n\u001b[1;32m-> 5902\u001b[0m \u001b[38;5;28;01mreturn\u001b[39;00m \u001b[38;5;28mobject\u001b[39m\u001b[38;5;241m.\u001b[39m\u001b[38;5;21m__getattribute__\u001b[39m(\u001b[38;5;28mself\u001b[39m, name)\n",
      "\u001b[1;31mAttributeError\u001b[0m: 'DataFrame' object has no attribute 'ilocp'"
     ]
    }
   ],
   "source": [
    "laliga_data.ilocp[3]"
   ]
  },
  {
   "cell_type": "code",
   "execution_count": 38,
   "id": "d879c08b",
   "metadata": {},
   "outputs": [
    {
     "data": {
      "text/plain": [
       "Round                   1\n",
       "Date      Sun Sep 13 2020\n",
       "Team 1       FC Barcelona\n",
       "FT                    NaN\n",
       "Team 2           Elche CF\n",
       "Name: 3, dtype: object"
      ]
     },
     "execution_count": 38,
     "metadata": {},
     "output_type": "execute_result"
    }
   ],
   "source": [
    "laliga_data.iloc[3]"
   ]
  },
  {
   "cell_type": "code",
   "execution_count": 39,
   "id": "6d17608d",
   "metadata": {},
   "outputs": [
    {
     "ename": "SyntaxError",
     "evalue": "invalid syntax (177008621.py, line 1)",
     "output_type": "error",
     "traceback": [
      "\u001b[1;36m  Cell \u001b[1;32mIn[39], line 1\u001b[1;36m\u001b[0m\n\u001b[1;33m    laliga_data.Team 1==\"FC Barcelona\"\u001b[0m\n\u001b[1;37m                     ^\u001b[0m\n\u001b[1;31mSyntaxError\u001b[0m\u001b[1;31m:\u001b[0m invalid syntax\n"
     ]
    }
   ],
   "source": [
    "laliga_data.Team 1==\"FC Barcelona\""
   ]
  },
  {
   "cell_type": "code",
   "execution_count": 42,
   "id": "6863fff1",
   "metadata": {},
   "outputs": [
    {
     "data": {
      "text/html": [
       "<div>\n",
       "<style scoped>\n",
       "    .dataframe tbody tr th:only-of-type {\n",
       "        vertical-align: middle;\n",
       "    }\n",
       "\n",
       "    .dataframe tbody tr th {\n",
       "        vertical-align: top;\n",
       "    }\n",
       "\n",
       "    .dataframe thead th {\n",
       "        text-align: right;\n",
       "    }\n",
       "</style>\n",
       "<table border=\"1\" class=\"dataframe\">\n",
       "  <thead>\n",
       "    <tr style=\"text-align: right;\">\n",
       "      <th></th>\n",
       "      <th>Round</th>\n",
       "      <th>Date</th>\n",
       "      <th>Team 1</th>\n",
       "      <th>FT</th>\n",
       "      <th>Team 2</th>\n",
       "    </tr>\n",
       "  </thead>\n",
       "  <tbody>\n",
       "  </tbody>\n",
       "</table>\n",
       "</div>"
      ],
      "text/plain": [
       "Empty DataFrame\n",
       "Columns: [Round, Date, Team 1, FT, Team 2]\n",
       "Index: []"
      ]
     },
     "execution_count": 42,
     "metadata": {},
     "output_type": "execute_result"
    }
   ],
   "source": [
    "laliga_data[laliga_data[\"FT\"]==\"NaN\" ]"
   ]
  },
  {
   "cell_type": "code",
   "execution_count": 43,
   "id": "753ecceb",
   "metadata": {},
   "outputs": [
    {
     "data": {
      "text/plain": [
       "0      0-0\n",
       "1      2-0\n",
       "2      0-2\n",
       "3      NaN\n",
       "4      NaN\n",
       "      ... \n",
       "375    NaN\n",
       "376    NaN\n",
       "377    NaN\n",
       "378    NaN\n",
       "379    NaN\n",
       "Name: FT, Length: 380, dtype: object"
      ]
     },
     "execution_count": 43,
     "metadata": {},
     "output_type": "execute_result"
    }
   ],
   "source": [
    "laliga_data.FT"
   ]
  },
  {
   "cell_type": "code",
   "execution_count": 44,
   "id": "ebfafeeb",
   "metadata": {},
   "outputs": [
    {
     "ename": "AttributeError",
     "evalue": "'DataFrame' object has no attribute 'Ft'",
     "output_type": "error",
     "traceback": [
      "\u001b[1;31m---------------------------------------------------------------------------\u001b[0m",
      "\u001b[1;31mAttributeError\u001b[0m                            Traceback (most recent call last)",
      "Cell \u001b[1;32mIn[44], line 1\u001b[0m\n\u001b[1;32m----> 1\u001b[0m laliga_data[laliga_data\u001b[38;5;241m.\u001b[39mFt\u001b[38;5;241m==\u001b[39m\u001b[38;5;124m\"\u001b[39m\u001b[38;5;124mNaN\u001b[39m\u001b[38;5;124m\"\u001b[39m]\n",
      "File \u001b[1;32mH:\\sample_project\\env\\Lib\\site-packages\\pandas\\core\\generic.py:5902\u001b[0m, in \u001b[0;36mNDFrame.__getattr__\u001b[1;34m(self, name)\u001b[0m\n\u001b[0;32m   5895\u001b[0m \u001b[38;5;28;01mif\u001b[39;00m (\n\u001b[0;32m   5896\u001b[0m     name \u001b[38;5;129;01mnot\u001b[39;00m \u001b[38;5;129;01min\u001b[39;00m \u001b[38;5;28mself\u001b[39m\u001b[38;5;241m.\u001b[39m_internal_names_set\n\u001b[0;32m   5897\u001b[0m     \u001b[38;5;129;01mand\u001b[39;00m name \u001b[38;5;129;01mnot\u001b[39;00m \u001b[38;5;129;01min\u001b[39;00m \u001b[38;5;28mself\u001b[39m\u001b[38;5;241m.\u001b[39m_metadata\n\u001b[0;32m   5898\u001b[0m     \u001b[38;5;129;01mand\u001b[39;00m name \u001b[38;5;129;01mnot\u001b[39;00m \u001b[38;5;129;01min\u001b[39;00m \u001b[38;5;28mself\u001b[39m\u001b[38;5;241m.\u001b[39m_accessors\n\u001b[0;32m   5899\u001b[0m     \u001b[38;5;129;01mand\u001b[39;00m \u001b[38;5;28mself\u001b[39m\u001b[38;5;241m.\u001b[39m_info_axis\u001b[38;5;241m.\u001b[39m_can_hold_identifiers_and_holds_name(name)\n\u001b[0;32m   5900\u001b[0m ):\n\u001b[0;32m   5901\u001b[0m     \u001b[38;5;28;01mreturn\u001b[39;00m \u001b[38;5;28mself\u001b[39m[name]\n\u001b[1;32m-> 5902\u001b[0m \u001b[38;5;28;01mreturn\u001b[39;00m \u001b[38;5;28mobject\u001b[39m\u001b[38;5;241m.\u001b[39m\u001b[38;5;21m__getattribute__\u001b[39m(\u001b[38;5;28mself\u001b[39m, name)\n",
      "\u001b[1;31mAttributeError\u001b[0m: 'DataFrame' object has no attribute 'Ft'"
     ]
    }
   ],
   "source": [
    "laliga_data[laliga_data.Ft==\"NaN\"]"
   ]
  },
  {
   "cell_type": "code",
   "execution_count": 45,
   "id": "19dd8b42",
   "metadata": {},
   "outputs": [
    {
     "data": {
      "text/html": [
       "<div>\n",
       "<style scoped>\n",
       "    .dataframe tbody tr th:only-of-type {\n",
       "        vertical-align: middle;\n",
       "    }\n",
       "\n",
       "    .dataframe tbody tr th {\n",
       "        vertical-align: top;\n",
       "    }\n",
       "\n",
       "    .dataframe thead th {\n",
       "        text-align: right;\n",
       "    }\n",
       "</style>\n",
       "<table border=\"1\" class=\"dataframe\">\n",
       "  <thead>\n",
       "    <tr style=\"text-align: right;\">\n",
       "      <th></th>\n",
       "      <th>Round</th>\n",
       "      <th>Date</th>\n",
       "      <th>Team 1</th>\n",
       "      <th>FT</th>\n",
       "      <th>Team 2</th>\n",
       "    </tr>\n",
       "  </thead>\n",
       "  <tbody>\n",
       "  </tbody>\n",
       "</table>\n",
       "</div>"
      ],
      "text/plain": [
       "Empty DataFrame\n",
       "Columns: [Round, Date, Team 1, FT, Team 2]\n",
       "Index: []"
      ]
     },
     "execution_count": 45,
     "metadata": {},
     "output_type": "execute_result"
    }
   ],
   "source": [
    "laliga_data[laliga_data[\"FT\"]==\"NaN\"]"
   ]
  },
  {
   "cell_type": "code",
   "execution_count": 46,
   "id": "d560dc34",
   "metadata": {},
   "outputs": [
    {
     "ename": "AttributeError",
     "evalue": "'DataFrame' object has no attribute 'Ft'",
     "output_type": "error",
     "traceback": [
      "\u001b[1;31m---------------------------------------------------------------------------\u001b[0m",
      "\u001b[1;31mAttributeError\u001b[0m                            Traceback (most recent call last)",
      "Cell \u001b[1;32mIn[46], line 1\u001b[0m\n\u001b[1;32m----> 1\u001b[0m new\u001b[38;5;241m=\u001b[39mlaliga_data[laliga_data\u001b[38;5;241m.\u001b[39mFt\u001b[38;5;241m==\u001b[39m\u001b[38;5;124m\"\u001b[39m\u001b[38;5;124mNaN\u001b[39m\u001b[38;5;124m\"\u001b[39m]\n",
      "File \u001b[1;32mH:\\sample_project\\env\\Lib\\site-packages\\pandas\\core\\generic.py:5902\u001b[0m, in \u001b[0;36mNDFrame.__getattr__\u001b[1;34m(self, name)\u001b[0m\n\u001b[0;32m   5895\u001b[0m \u001b[38;5;28;01mif\u001b[39;00m (\n\u001b[0;32m   5896\u001b[0m     name \u001b[38;5;129;01mnot\u001b[39;00m \u001b[38;5;129;01min\u001b[39;00m \u001b[38;5;28mself\u001b[39m\u001b[38;5;241m.\u001b[39m_internal_names_set\n\u001b[0;32m   5897\u001b[0m     \u001b[38;5;129;01mand\u001b[39;00m name \u001b[38;5;129;01mnot\u001b[39;00m \u001b[38;5;129;01min\u001b[39;00m \u001b[38;5;28mself\u001b[39m\u001b[38;5;241m.\u001b[39m_metadata\n\u001b[0;32m   5898\u001b[0m     \u001b[38;5;129;01mand\u001b[39;00m name \u001b[38;5;129;01mnot\u001b[39;00m \u001b[38;5;129;01min\u001b[39;00m \u001b[38;5;28mself\u001b[39m\u001b[38;5;241m.\u001b[39m_accessors\n\u001b[0;32m   5899\u001b[0m     \u001b[38;5;129;01mand\u001b[39;00m \u001b[38;5;28mself\u001b[39m\u001b[38;5;241m.\u001b[39m_info_axis\u001b[38;5;241m.\u001b[39m_can_hold_identifiers_and_holds_name(name)\n\u001b[0;32m   5900\u001b[0m ):\n\u001b[0;32m   5901\u001b[0m     \u001b[38;5;28;01mreturn\u001b[39;00m \u001b[38;5;28mself\u001b[39m[name]\n\u001b[1;32m-> 5902\u001b[0m \u001b[38;5;28;01mreturn\u001b[39;00m \u001b[38;5;28mobject\u001b[39m\u001b[38;5;241m.\u001b[39m\u001b[38;5;21m__getattribute__\u001b[39m(\u001b[38;5;28mself\u001b[39m, name)\n",
      "\u001b[1;31mAttributeError\u001b[0m: 'DataFrame' object has no attribute 'Ft'"
     ]
    }
   ],
   "source": [
    "new=laliga_data[laliga_data.Ft==\"NaN\"]"
   ]
  },
  {
   "cell_type": "code",
   "execution_count": 47,
   "id": "5d3f68da",
   "metadata": {},
   "outputs": [],
   "source": [
    "new=laliga_data[laliga_data[\"FT\"]==\"NaN\"]"
   ]
  },
  {
   "cell_type": "code",
   "execution_count": 48,
   "id": "03517c87",
   "metadata": {},
   "outputs": [
    {
     "data": {
      "text/html": [
       "<div>\n",
       "<style scoped>\n",
       "    .dataframe tbody tr th:only-of-type {\n",
       "        vertical-align: middle;\n",
       "    }\n",
       "\n",
       "    .dataframe tbody tr th {\n",
       "        vertical-align: top;\n",
       "    }\n",
       "\n",
       "    .dataframe thead th {\n",
       "        text-align: right;\n",
       "    }\n",
       "</style>\n",
       "<table border=\"1\" class=\"dataframe\">\n",
       "  <thead>\n",
       "    <tr style=\"text-align: right;\">\n",
       "      <th></th>\n",
       "      <th>Round</th>\n",
       "      <th>Date</th>\n",
       "      <th>Team 1</th>\n",
       "      <th>FT</th>\n",
       "      <th>Team 2</th>\n",
       "    </tr>\n",
       "  </thead>\n",
       "  <tbody>\n",
       "  </tbody>\n",
       "</table>\n",
       "</div>"
      ],
      "text/plain": [
       "Empty DataFrame\n",
       "Columns: [Round, Date, Team 1, FT, Team 2]\n",
       "Index: []"
      ]
     },
     "execution_count": 48,
     "metadata": {},
     "output_type": "execute_result"
    }
   ],
   "source": [
    "new"
   ]
  },
  {
   "cell_type": "code",
   "execution_count": 49,
   "id": "0a338556",
   "metadata": {},
   "outputs": [
    {
     "data": {
      "text/html": [
       "<div>\n",
       "<style scoped>\n",
       "    .dataframe tbody tr th:only-of-type {\n",
       "        vertical-align: middle;\n",
       "    }\n",
       "\n",
       "    .dataframe tbody tr th {\n",
       "        vertical-align: top;\n",
       "    }\n",
       "\n",
       "    .dataframe thead th {\n",
       "        text-align: right;\n",
       "    }\n",
       "</style>\n",
       "<table border=\"1\" class=\"dataframe\">\n",
       "  <thead>\n",
       "    <tr style=\"text-align: right;\">\n",
       "      <th></th>\n",
       "      <th>Round</th>\n",
       "      <th>Date</th>\n",
       "      <th>Team 1</th>\n",
       "      <th>FT</th>\n",
       "      <th>Team 2</th>\n",
       "    </tr>\n",
       "  </thead>\n",
       "  <tbody>\n",
       "    <tr>\n",
       "      <th>0</th>\n",
       "      <td>1</td>\n",
       "      <td>Sat Sep 12 2020</td>\n",
       "      <td>SD Eibar</td>\n",
       "      <td>0-0</td>\n",
       "      <td>RC Celta Vigo</td>\n",
       "    </tr>\n",
       "    <tr>\n",
       "      <th>1</th>\n",
       "      <td>1</td>\n",
       "      <td>Sat Sep 12 2020</td>\n",
       "      <td>Granada CF</td>\n",
       "      <td>2-0</td>\n",
       "      <td>Athletic Club Bilbao</td>\n",
       "    </tr>\n",
       "    <tr>\n",
       "      <th>2</th>\n",
       "      <td>1</td>\n",
       "      <td>Sat Sep 12 2020</td>\n",
       "      <td>Cádiz CF</td>\n",
       "      <td>0-2</td>\n",
       "      <td>CA Osasuna</td>\n",
       "    </tr>\n",
       "    <tr>\n",
       "      <th>3</th>\n",
       "      <td>1</td>\n",
       "      <td>Sun Sep 13 2020</td>\n",
       "      <td>FC Barcelona</td>\n",
       "      <td>NaN</td>\n",
       "      <td>Elche CF</td>\n",
       "    </tr>\n",
       "    <tr>\n",
       "      <th>4</th>\n",
       "      <td>1</td>\n",
       "      <td>Sun Sep 13 2020</td>\n",
       "      <td>Real Madrid</td>\n",
       "      <td>NaN</td>\n",
       "      <td>Getafe CF</td>\n",
       "    </tr>\n",
       "    <tr>\n",
       "      <th>...</th>\n",
       "      <td>...</td>\n",
       "      <td>...</td>\n",
       "      <td>...</td>\n",
       "      <td>...</td>\n",
       "      <td>...</td>\n",
       "    </tr>\n",
       "    <tr>\n",
       "      <th>375</th>\n",
       "      <td>38</td>\n",
       "      <td>Sun May 23 2021</td>\n",
       "      <td>CA Osasuna</td>\n",
       "      <td>NaN</td>\n",
       "      <td>Real Sociedad</td>\n",
       "    </tr>\n",
       "    <tr>\n",
       "      <th>376</th>\n",
       "      <td>38</td>\n",
       "      <td>Sun May 23 2021</td>\n",
       "      <td>Real Madrid</td>\n",
       "      <td>NaN</td>\n",
       "      <td>Villarreal CF</td>\n",
       "    </tr>\n",
       "    <tr>\n",
       "      <th>377</th>\n",
       "      <td>38</td>\n",
       "      <td>Sun May 23 2021</td>\n",
       "      <td>Sevilla FC</td>\n",
       "      <td>NaN</td>\n",
       "      <td>Deportivo Alavés</td>\n",
       "    </tr>\n",
       "    <tr>\n",
       "      <th>378</th>\n",
       "      <td>38</td>\n",
       "      <td>Sun May 23 2021</td>\n",
       "      <td>Real Valladolid CF</td>\n",
       "      <td>NaN</td>\n",
       "      <td>Atlético Madrid</td>\n",
       "    </tr>\n",
       "    <tr>\n",
       "      <th>379</th>\n",
       "      <td>38</td>\n",
       "      <td>Sun May 23 2021</td>\n",
       "      <td>Elche CF</td>\n",
       "      <td>NaN</td>\n",
       "      <td>Athletic Club Bilbao</td>\n",
       "    </tr>\n",
       "  </tbody>\n",
       "</table>\n",
       "<p>380 rows × 5 columns</p>\n",
       "</div>"
      ],
      "text/plain": [
       "     Round             Date              Team 1   FT                Team 2\n",
       "0        1  Sat Sep 12 2020            SD Eibar  0-0         RC Celta Vigo\n",
       "1        1  Sat Sep 12 2020          Granada CF  2-0  Athletic Club Bilbao\n",
       "2        1  Sat Sep 12 2020            Cádiz CF  0-2            CA Osasuna\n",
       "3        1  Sun Sep 13 2020        FC Barcelona  NaN              Elche CF\n",
       "4        1  Sun Sep 13 2020         Real Madrid  NaN             Getafe CF\n",
       "..     ...              ...                 ...  ...                   ...\n",
       "375     38  Sun May 23 2021          CA Osasuna  NaN         Real Sociedad\n",
       "376     38  Sun May 23 2021         Real Madrid  NaN         Villarreal CF\n",
       "377     38  Sun May 23 2021          Sevilla FC  NaN      Deportivo Alavés\n",
       "378     38  Sun May 23 2021  Real Valladolid CF  NaN       Atlético Madrid\n",
       "379     38  Sun May 23 2021            Elche CF  NaN  Athletic Club Bilbao\n",
       "\n",
       "[380 rows x 5 columns]"
      ]
     },
     "execution_count": 49,
     "metadata": {},
     "output_type": "execute_result"
    }
   ],
   "source": [
    "laliga_data"
   ]
  },
  {
   "cell_type": "code",
   "execution_count": 50,
   "id": "faed96cb",
   "metadata": {},
   "outputs": [
    {
     "ename": "SyntaxError",
     "evalue": "invalid syntax (3204062925.py, line 1)",
     "output_type": "error",
     "traceback": [
      "\u001b[1;36m  Cell \u001b[1;32mIn[50], line 1\u001b[1;36m\u001b[0m\n\u001b[1;33m    laliga_data.Team 2\u001b[0m\n\u001b[1;37m                     ^\u001b[0m\n\u001b[1;31mSyntaxError\u001b[0m\u001b[1;31m:\u001b[0m invalid syntax\n"
     ]
    }
   ],
   "source": [
    "laliga_data.Team 2\n"
   ]
  },
  {
   "cell_type": "code",
   "execution_count": 51,
   "id": "e605d24d",
   "metadata": {},
   "outputs": [
    {
     "ename": "SyntaxError",
     "evalue": "invalid syntax (3389979248.py, line 1)",
     "output_type": "error",
     "traceback": [
      "\u001b[1;36m  Cell \u001b[1;32mIn[51], line 1\u001b[1;36m\u001b[0m\n\u001b[1;33m    laliga_data.Team 2\u001b[0m\n\u001b[1;37m                     ^\u001b[0m\n\u001b[1;31mSyntaxError\u001b[0m\u001b[1;31m:\u001b[0m invalid syntax\n"
     ]
    }
   ],
   "source": [
    "laliga_data.Team "
   ]
  },
  {
   "cell_type": "code",
   "execution_count": 52,
   "id": "3cc83194",
   "metadata": {},
   "outputs": [
    {
     "data": {
      "text/plain": [
       "0      0-0\n",
       "1      2-0\n",
       "2      0-2\n",
       "3      NaN\n",
       "4      NaN\n",
       "      ... \n",
       "375    NaN\n",
       "376    NaN\n",
       "377    NaN\n",
       "378    NaN\n",
       "379    NaN\n",
       "Name: FT, Length: 380, dtype: object"
      ]
     },
     "execution_count": 52,
     "metadata": {},
     "output_type": "execute_result"
    }
   ],
   "source": [
    "laliga_data[\"FT\"]"
   ]
  },
  {
   "cell_type": "code",
   "execution_count": 53,
   "id": "201f10d8",
   "metadata": {},
   "outputs": [
    {
     "data": {
      "text/plain": [
       "0             RC Celta Vigo\n",
       "1      Athletic Club Bilbao\n",
       "2                CA Osasuna\n",
       "3                  Elche CF\n",
       "4                 Getafe CF\n",
       "               ...         \n",
       "375           Real Sociedad\n",
       "376           Villarreal CF\n",
       "377        Deportivo Alavés\n",
       "378         Atlético Madrid\n",
       "379    Athletic Club Bilbao\n",
       "Name: Team 2, Length: 380, dtype: object"
      ]
     },
     "execution_count": 53,
     "metadata": {},
     "output_type": "execute_result"
    }
   ],
   "source": [
    "laliga_data[\"Team 2\"]\n"
   ]
  },
  {
   "cell_type": "code",
   "execution_count": 69,
   "id": "09c4c914",
   "metadata": {},
   "outputs": [
    {
     "ename": "SyntaxError",
     "evalue": "invalid syntax (1960242375.py, line 1)",
     "output_type": "error",
     "traceback": [
      "\u001b[1;36m  Cell \u001b[1;32mIn[69], line 1\u001b[1;36m\u001b[0m\n\u001b[1;33m    laliga_data[laliga_data[\"FT\"]==\"0-0\" or laliga_data[\"FT\"]=\"1-1\"]\u001b[0m\n\u001b[1;37m                                                             ^\u001b[0m\n\u001b[1;31mSyntaxError\u001b[0m\u001b[1;31m:\u001b[0m invalid syntax\n"
     ]
    }
   ],
   "source": [
    "laliga_data[laliga_data[\"FT\"]==\"0-0\" or laliga_data[\"FT\"]=\"1-1\"]"
   ]
  },
  {
   "cell_type": "code",
   "execution_count": 72,
   "id": "8079594c",
   "metadata": {},
   "outputs": [],
   "source": [
    "animal=pd.Series([\"bird\",\"cat\",\"dog\",\"mouse\"],index=[6,12,24,48])"
   ]
  },
  {
   "cell_type": "code",
   "execution_count": 73,
   "id": "080630a2",
   "metadata": {},
   "outputs": [
    {
     "data": {
      "text/plain": [
       "6      bird\n",
       "12      cat\n",
       "24      dog\n",
       "48    mouse\n",
       "dtype: object"
      ]
     },
     "execution_count": 73,
     "metadata": {},
     "output_type": "execute_result"
    }
   ],
   "source": [
    "animal"
   ]
  },
  {
   "cell_type": "code",
   "execution_count": 74,
   "id": "01a98a6d",
   "metadata": {},
   "outputs": [
    {
     "data": {
      "text/plain": [
       "'cat'"
      ]
     },
     "execution_count": 74,
     "metadata": {},
     "output_type": "execute_result"
    }
   ],
   "source": [
    "animal.loc[12]"
   ]
  },
  {
   "cell_type": "code",
   "execution_count": 75,
   "id": "1e9e420e",
   "metadata": {},
   "outputs": [
    {
     "ename": "IndexError",
     "evalue": "single positional indexer is out-of-bounds",
     "output_type": "error",
     "traceback": [
      "\u001b[1;31m---------------------------------------------------------------------------\u001b[0m",
      "\u001b[1;31mIndexError\u001b[0m                                Traceback (most recent call last)",
      "Cell \u001b[1;32mIn[75], line 1\u001b[0m\n\u001b[1;32m----> 1\u001b[0m animal\u001b[38;5;241m.\u001b[39miloc[\u001b[38;5;241m6\u001b[39m]\n",
      "File \u001b[1;32mH:\\sample_project\\env\\Lib\\site-packages\\pandas\\core\\indexing.py:1073\u001b[0m, in \u001b[0;36m_LocationIndexer.__getitem__\u001b[1;34m(self, key)\u001b[0m\n\u001b[0;32m   1070\u001b[0m axis \u001b[38;5;241m=\u001b[39m \u001b[38;5;28mself\u001b[39m\u001b[38;5;241m.\u001b[39maxis \u001b[38;5;129;01mor\u001b[39;00m \u001b[38;5;241m0\u001b[39m\n\u001b[0;32m   1072\u001b[0m maybe_callable \u001b[38;5;241m=\u001b[39m com\u001b[38;5;241m.\u001b[39mapply_if_callable(key, \u001b[38;5;28mself\u001b[39m\u001b[38;5;241m.\u001b[39mobj)\n\u001b[1;32m-> 1073\u001b[0m \u001b[38;5;28;01mreturn\u001b[39;00m \u001b[38;5;28mself\u001b[39m\u001b[38;5;241m.\u001b[39m_getitem_axis(maybe_callable, axis\u001b[38;5;241m=\u001b[39maxis)\n",
      "File \u001b[1;32mH:\\sample_project\\env\\Lib\\site-packages\\pandas\\core\\indexing.py:1625\u001b[0m, in \u001b[0;36m_iLocIndexer._getitem_axis\u001b[1;34m(self, key, axis)\u001b[0m\n\u001b[0;32m   1622\u001b[0m     \u001b[38;5;28;01mraise\u001b[39;00m \u001b[38;5;167;01mTypeError\u001b[39;00m(\u001b[38;5;124m\"\u001b[39m\u001b[38;5;124mCannot index by location index with a non-integer key\u001b[39m\u001b[38;5;124m\"\u001b[39m)\n\u001b[0;32m   1624\u001b[0m \u001b[38;5;66;03m# validate the location\u001b[39;00m\n\u001b[1;32m-> 1625\u001b[0m \u001b[38;5;28mself\u001b[39m\u001b[38;5;241m.\u001b[39m_validate_integer(key, axis)\n\u001b[0;32m   1627\u001b[0m \u001b[38;5;28;01mreturn\u001b[39;00m \u001b[38;5;28mself\u001b[39m\u001b[38;5;241m.\u001b[39mobj\u001b[38;5;241m.\u001b[39m_ixs(key, axis\u001b[38;5;241m=\u001b[39maxis)\n",
      "File \u001b[1;32mH:\\sample_project\\env\\Lib\\site-packages\\pandas\\core\\indexing.py:1557\u001b[0m, in \u001b[0;36m_iLocIndexer._validate_integer\u001b[1;34m(self, key, axis)\u001b[0m\n\u001b[0;32m   1555\u001b[0m len_axis \u001b[38;5;241m=\u001b[39m \u001b[38;5;28mlen\u001b[39m(\u001b[38;5;28mself\u001b[39m\u001b[38;5;241m.\u001b[39mobj\u001b[38;5;241m.\u001b[39m_get_axis(axis))\n\u001b[0;32m   1556\u001b[0m \u001b[38;5;28;01mif\u001b[39;00m key \u001b[38;5;241m>\u001b[39m\u001b[38;5;241m=\u001b[39m len_axis \u001b[38;5;129;01mor\u001b[39;00m key \u001b[38;5;241m<\u001b[39m \u001b[38;5;241m-\u001b[39mlen_axis:\n\u001b[1;32m-> 1557\u001b[0m     \u001b[38;5;28;01mraise\u001b[39;00m \u001b[38;5;167;01mIndexError\u001b[39;00m(\u001b[38;5;124m\"\u001b[39m\u001b[38;5;124msingle positional indexer is out-of-bounds\u001b[39m\u001b[38;5;124m\"\u001b[39m)\n",
      "\u001b[1;31mIndexError\u001b[0m: single positional indexer is out-of-bounds"
     ]
    }
   ],
   "source": [
    "animal.iloc[6]animal"
   ]
  },
  {
   "cell_type": "code",
   "execution_count": 76,
   "id": "49483b57",
   "metadata": {},
   "outputs": [
    {
     "data": {
      "text/plain": [
       "'dog'"
      ]
     },
     "execution_count": 76,
     "metadata": {},
     "output_type": "execute_result"
    }
   ],
   "source": [
    "animal.iloc[2]"
   ]
  },
  {
   "cell_type": "code",
   "execution_count": 87,
   "id": "22f2f703",
   "metadata": {},
   "outputs": [
    {
     "ename": "NameError",
     "evalue": "name 'red' is not defined",
     "output_type": "error",
     "traceback": [
      "\u001b[1;31m---------------------------------------------------------------------------\u001b[0m",
      "\u001b[1;31mNameError\u001b[0m                                 Traceback (most recent call last)",
      "Cell \u001b[1;32mIn[87], line 1\u001b[0m\n\u001b[1;32m----> 1\u001b[0m new_data\u001b[38;5;241m=\u001b[39mpd\u001b[38;5;241m.\u001b[39mDataFrame({\u001b[38;5;124m\"\u001b[39m\u001b[38;5;124mcoloure\u001b[39m\u001b[38;5;124m\"\u001b[39m:[red,blue,yellow]})\n",
      "\u001b[1;31mNameError\u001b[0m: name 'red' is not defined"
     ]
    }
   ],
   "source": [
    "new_data=pd.DataFrame({\"coloure\":red,blue,yellow})"
   ]
  },
  {
   "cell_type": "code",
   "execution_count": 91,
   "id": "b74e7fdd",
   "metadata": {},
   "outputs": [
    {
     "data": {
      "text/html": [
       "<div>\n",
       "<style scoped>\n",
       "    .dataframe tbody tr th:only-of-type {\n",
       "        vertical-align: middle;\n",
       "    }\n",
       "\n",
       "    .dataframe tbody tr th {\n",
       "        vertical-align: top;\n",
       "    }\n",
       "\n",
       "    .dataframe thead th {\n",
       "        text-align: right;\n",
       "    }\n",
       "</style>\n",
       "<table border=\"1\" class=\"dataframe\">\n",
       "  <thead>\n",
       "    <tr style=\"text-align: right;\">\n",
       "      <th></th>\n",
       "      <th>Animal</th>\n",
       "    </tr>\n",
       "  </thead>\n",
       "  <tbody>\n",
       "    <tr>\n",
       "      <th>6</th>\n",
       "      <td>bird</td>\n",
       "    </tr>\n",
       "    <tr>\n",
       "      <th>12</th>\n",
       "      <td>cat</td>\n",
       "    </tr>\n",
       "    <tr>\n",
       "      <th>24</th>\n",
       "      <td>dog</td>\n",
       "    </tr>\n",
       "    <tr>\n",
       "      <th>48</th>\n",
       "      <td>mouse</td>\n",
       "    </tr>\n",
       "  </tbody>\n",
       "</table>\n",
       "</div>"
      ],
      "text/plain": [
       "   Animal\n",
       "6    bird\n",
       "12    cat\n",
       "24    dog\n",
       "48  mouse"
      ]
     },
     "execution_count": 91,
     "metadata": {},
     "output_type": "execute_result"
    }
   ],
   "source": [
    "pd.DataFrame({\"Animal\":animal})"
   ]
  },
  {
   "cell_type": "code",
   "execution_count": 93,
   "id": "9c7a858e",
   "metadata": {},
   "outputs": [],
   "source": [
    "clothes=pd.Series([\"shirt\",\"skirt\",\"jacket\"])"
   ]
  },
  {
   "cell_type": "code",
   "execution_count": 94,
   "id": "fedb0f81",
   "metadata": {},
   "outputs": [
    {
     "data": {
      "text/plain": [
       "0     shirt\n",
       "1     skirt\n",
       "2    jacket\n",
       "dtype: object"
      ]
     },
     "execution_count": 94,
     "metadata": {},
     "output_type": "execute_result"
    }
   ],
   "source": [
    "clothes\n"
   ]
  },
  {
   "cell_type": "code",
   "execution_count": 109,
   "id": "643b77d5",
   "metadata": {},
   "outputs": [],
   "source": [
    "new_clothes=pd.DataFrame({\"box1\":clothes,\"box2\":clothes})"
   ]
  },
  {
   "cell_type": "code",
   "execution_count": 110,
   "id": "81060cac",
   "metadata": {},
   "outputs": [
    {
     "data": {
      "text/html": [
       "<div>\n",
       "<style scoped>\n",
       "    .dataframe tbody tr th:only-of-type {\n",
       "        vertical-align: middle;\n",
       "    }\n",
       "\n",
       "    .dataframe tbody tr th {\n",
       "        vertical-align: top;\n",
       "    }\n",
       "\n",
       "    .dataframe thead th {\n",
       "        text-align: right;\n",
       "    }\n",
       "</style>\n",
       "<table border=\"1\" class=\"dataframe\">\n",
       "  <thead>\n",
       "    <tr style=\"text-align: right;\">\n",
       "      <th></th>\n",
       "      <th>box1</th>\n",
       "      <th>box2</th>\n",
       "    </tr>\n",
       "  </thead>\n",
       "  <tbody>\n",
       "    <tr>\n",
       "      <th>0</th>\n",
       "      <td>shirt</td>\n",
       "      <td>shirt</td>\n",
       "    </tr>\n",
       "    <tr>\n",
       "      <th>1</th>\n",
       "      <td>skirt</td>\n",
       "      <td>skirt</td>\n",
       "    </tr>\n",
       "    <tr>\n",
       "      <th>2</th>\n",
       "      <td>jacket</td>\n",
       "      <td>jacket</td>\n",
       "    </tr>\n",
       "  </tbody>\n",
       "</table>\n",
       "</div>"
      ],
      "text/plain": [
       "     box1    box2\n",
       "0   shirt   shirt\n",
       "1   skirt   skirt\n",
       "2  jacket  jacket"
      ]
     },
     "execution_count": 110,
     "metadata": {},
     "output_type": "execute_result"
    }
   ],
   "source": [
    "new_clothes"
   ]
  },
  {
   "cell_type": "code",
   "execution_count": null,
   "id": "6f2eb892",
   "metadata": {},
   "outputs": [],
   "source": []
  }
 ],
 "metadata": {
  "kernelspec": {
   "display_name": "Python 3 (ipykernel)",
   "language": "python",
   "name": "python3"
  },
  "language_info": {
   "codemirror_mode": {
    "name": "ipython",
    "version": 3
   },
   "file_extension": ".py",
   "mimetype": "text/x-python",
   "name": "python",
   "nbconvert_exporter": "python",
   "pygments_lexer": "ipython3",
   "version": "3.11.4"
  }
 },
 "nbformat": 4,
 "nbformat_minor": 5
}
